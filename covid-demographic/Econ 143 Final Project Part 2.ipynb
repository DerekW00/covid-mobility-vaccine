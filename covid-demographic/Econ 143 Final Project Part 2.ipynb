{
 "cells": [
  {
   "cell_type": "code",
   "execution_count": 24,
   "metadata": {
    "ExecuteTime": {
     "start_time": "2023-05-17T22:41:02.465888Z",
     "end_time": "2023-05-17T22:41:02.498280Z"
    },
    "collapsed": true
   },
   "outputs": [],
   "source": [
    "import numpy as np\n",
    "import pandas as pd\n",
    "import scipy.stats as stats\n",
    "import matplotlib.patches as patches\n",
    "import matplotlib.pyplot as plt\n",
    "import seaborn as sns\n",
    "import plotly.figure_factory as ff\n",
    "import plotly.express as px\n",
    "from linearmodels.iv import IV2SLS\n",
    "import itertools\n",
    "import statsmodels.api as sm\n",
    "import datetime\n",
    "import geopandas as gpd\n",
    "import warnings\n",
    "import array_to_latex as a2l\n",
    "\n",
    "warnings.filterwarnings('ignore')"
   ]
  },
  {
   "cell_type": "markdown",
   "metadata": {},
   "source": [
    "In Glaser, Gorback, and Redding's paper, they assumed that the effect of changes in mobility will be reflected on the infection rate in a week. As a result, I take the average of changes in mobility and COVID cases in this analysis. "
   ]
  },
  {
   "cell_type": "code",
   "execution_count": 25,
   "metadata": {
    "ExecuteTime": {
     "start_time": "2023-05-17T22:41:02.475137Z",
     "end_time": "2023-05-17T22:41:02.799650Z"
    }
   },
   "outputs": [
    {
     "data": {
      "text/plain": "        date         county       state   fips  cases  deaths  daily_cases  \\\n0 2020-02-15    Los Angeles  California  06037      1     0.0          0.0   \n1 2020-02-15         Orange  California  06059      1     0.0          0.0   \n2 2020-02-15      San Diego  California  06073      1     0.0          0.0   \n3 2020-02-15  San Francisco  California  06075      2     0.0          0.0   \n4 2020-02-15    Santa Clara  California  06085      2     0.0          0.0   \n\n   daily_deaths  retail_and_recreation  grocery_and_pharmacy  ...  \\\n0           0.0                    1.0                   0.0  ...   \n1           0.0                    0.0                   0.0  ...   \n2           0.0                    3.0                  -1.0  ...   \n3           0.0                    6.0                   2.0  ...   \n4           0.0                   -3.0                  -3.0  ...   \n\n   bachelor_or_higher  high_school  less_than_high_school  poverty_rate  \\\n0           34.044369    20.390964              19.957163          13.2   \n1           42.115793    17.244207              13.388919           9.0   \n2           40.263250    18.196428              11.684829           9.5   \n3           59.516756    11.373371              11.219663          10.0   \n4           54.391969    13.699706              10.812734           6.6   \n\n   daily_cases_100k  daily_deaths_100k  party_DEMOCRAT  ln_cases  ln_deaths  \\\n0               0.0                0.0               1       0.0        0.0   \n1               0.0                0.0               1       0.0        0.0   \n2               0.0                0.0               1       0.0        0.0   \n3               0.0                0.0               1       0.0        0.0   \n4               0.0                0.0               1       0.0        0.0   \n\n   Year_week  \n0    2020-06  \n1    2020-06  \n2    2020-06  \n3    2020-06  \n4    2020-06  \n\n[5 rows x 32 columns]",
      "text/html": "<div>\n<style scoped>\n    .dataframe tbody tr th:only-of-type {\n        vertical-align: middle;\n    }\n\n    .dataframe tbody tr th {\n        vertical-align: top;\n    }\n\n    .dataframe thead th {\n        text-align: right;\n    }\n</style>\n<table border=\"1\" class=\"dataframe\">\n  <thead>\n    <tr style=\"text-align: right;\">\n      <th></th>\n      <th>date</th>\n      <th>county</th>\n      <th>state</th>\n      <th>fips</th>\n      <th>cases</th>\n      <th>deaths</th>\n      <th>daily_cases</th>\n      <th>daily_deaths</th>\n      <th>retail_and_recreation</th>\n      <th>grocery_and_pharmacy</th>\n      <th>...</th>\n      <th>bachelor_or_higher</th>\n      <th>high_school</th>\n      <th>less_than_high_school</th>\n      <th>poverty_rate</th>\n      <th>daily_cases_100k</th>\n      <th>daily_deaths_100k</th>\n      <th>party_DEMOCRAT</th>\n      <th>ln_cases</th>\n      <th>ln_deaths</th>\n      <th>Year_week</th>\n    </tr>\n  </thead>\n  <tbody>\n    <tr>\n      <th>0</th>\n      <td>2020-02-15</td>\n      <td>Los Angeles</td>\n      <td>California</td>\n      <td>06037</td>\n      <td>1</td>\n      <td>0.0</td>\n      <td>0.0</td>\n      <td>0.0</td>\n      <td>1.0</td>\n      <td>0.0</td>\n      <td>...</td>\n      <td>34.044369</td>\n      <td>20.390964</td>\n      <td>19.957163</td>\n      <td>13.2</td>\n      <td>0.0</td>\n      <td>0.0</td>\n      <td>1</td>\n      <td>0.0</td>\n      <td>0.0</td>\n      <td>2020-06</td>\n    </tr>\n    <tr>\n      <th>1</th>\n      <td>2020-02-15</td>\n      <td>Orange</td>\n      <td>California</td>\n      <td>06059</td>\n      <td>1</td>\n      <td>0.0</td>\n      <td>0.0</td>\n      <td>0.0</td>\n      <td>0.0</td>\n      <td>0.0</td>\n      <td>...</td>\n      <td>42.115793</td>\n      <td>17.244207</td>\n      <td>13.388919</td>\n      <td>9.0</td>\n      <td>0.0</td>\n      <td>0.0</td>\n      <td>1</td>\n      <td>0.0</td>\n      <td>0.0</td>\n      <td>2020-06</td>\n    </tr>\n    <tr>\n      <th>2</th>\n      <td>2020-02-15</td>\n      <td>San Diego</td>\n      <td>California</td>\n      <td>06073</td>\n      <td>1</td>\n      <td>0.0</td>\n      <td>0.0</td>\n      <td>0.0</td>\n      <td>3.0</td>\n      <td>-1.0</td>\n      <td>...</td>\n      <td>40.263250</td>\n      <td>18.196428</td>\n      <td>11.684829</td>\n      <td>9.5</td>\n      <td>0.0</td>\n      <td>0.0</td>\n      <td>1</td>\n      <td>0.0</td>\n      <td>0.0</td>\n      <td>2020-06</td>\n    </tr>\n    <tr>\n      <th>3</th>\n      <td>2020-02-15</td>\n      <td>San Francisco</td>\n      <td>California</td>\n      <td>06075</td>\n      <td>2</td>\n      <td>0.0</td>\n      <td>0.0</td>\n      <td>0.0</td>\n      <td>6.0</td>\n      <td>2.0</td>\n      <td>...</td>\n      <td>59.516756</td>\n      <td>11.373371</td>\n      <td>11.219663</td>\n      <td>10.0</td>\n      <td>0.0</td>\n      <td>0.0</td>\n      <td>1</td>\n      <td>0.0</td>\n      <td>0.0</td>\n      <td>2020-06</td>\n    </tr>\n    <tr>\n      <th>4</th>\n      <td>2020-02-15</td>\n      <td>Santa Clara</td>\n      <td>California</td>\n      <td>06085</td>\n      <td>2</td>\n      <td>0.0</td>\n      <td>0.0</td>\n      <td>0.0</td>\n      <td>-3.0</td>\n      <td>-3.0</td>\n      <td>...</td>\n      <td>54.391969</td>\n      <td>13.699706</td>\n      <td>10.812734</td>\n      <td>6.6</td>\n      <td>0.0</td>\n      <td>0.0</td>\n      <td>1</td>\n      <td>0.0</td>\n      <td>0.0</td>\n      <td>2020-06</td>\n    </tr>\n  </tbody>\n</table>\n<p>5 rows × 32 columns</p>\n</div>"
     },
     "execution_count": 25,
     "metadata": {},
     "output_type": "execute_result"
    }
   ],
   "source": [
    "ca = pd.read_csv('output/data/CA.csv', dtype={'fips': 'str'})\n",
    "ca['date'] = pd.to_datetime(ca['date'])\n",
    "ca['ln_cases'] = np.log(ca['daily_cases_100k'])\n",
    "ca.replace([np.inf, -np.inf], 0, inplace=True)\n",
    "ca['ln_cases'] = ca['ln_cases'].astype('float64')\n",
    "ca['ln_deaths'] = np.log(ca['daily_deaths_100k'])\n",
    "ca.replace([np.inf, -np.inf], 0, inplace=True)\n",
    "ca['ln_deaths'] = ca['ln_deaths'].astype('float64')\n",
    "ca['Year_week'] = ca['date'].dt.strftime('%Y-%U')\n",
    "ca.drop(columns=['index'], inplace=True)\n",
    "ca.head(5)"
   ]
  },
  {
   "cell_type": "code",
   "execution_count": 26,
   "metadata": {
    "ExecuteTime": {
     "start_time": "2023-05-17T22:41:02.804354Z",
     "end_time": "2023-05-17T22:41:03.101678Z"
    }
   },
   "outputs": [
    {
     "data": {
      "text/plain": "        date      county           state   fips  cases  deaths  daily_cases  \\\n0 2020-03-06  Charleston  South Carolina  45019      1     0.0          1.0   \n1 2020-03-06     Kershaw  South Carolina  45055      1     0.0          1.0   \n2 2020-03-07  Charleston  South Carolina  45019      1     0.0          0.0   \n3 2020-03-07     Kershaw  South Carolina  45055      1     0.0          0.0   \n4 2020-03-08  Charleston  South Carolina  45019      1     0.0          0.0   \n\n   daily_deaths  retail_and_recreation  grocery_and_pharmacy  ...  \\\n0           0.0                    9.0                   5.0  ...   \n1           0.0                   10.0                  10.0  ...   \n2           0.0                    7.0                   5.0  ...   \n3           0.0                   11.0                  14.0  ...   \n4           0.0                   11.0                   5.0  ...   \n\n   bachelor_or_higher  high_school  less_than_high_school  poverty_rate  \\\n0           46.738602    20.984812               7.114868          11.9   \n1           21.189354    35.660776              10.230027          14.4   \n2           46.738602    20.984812               7.114868          11.9   \n3           21.189354    35.660776              10.230027          14.4   \n4           46.738602    20.984812               7.114868          11.9   \n\n   daily_cases_100k  daily_deaths_100k  party_DEMOCRAT  ln_cases  ln_deaths  \\\n0          0.256896                0.0               1 -1.359082        0.0   \n1          1.572253                0.0               1  0.452510        0.0   \n2          0.000000                0.0               1  0.000000        0.0   \n3          0.000000                0.0               1  0.000000        0.0   \n4          0.000000                0.0               1  0.000000        0.0   \n\n   Year_week  \n0    2020-09  \n1    2020-09  \n2    2020-09  \n3    2020-09  \n4    2020-10  \n\n[5 rows x 32 columns]",
      "text/html": "<div>\n<style scoped>\n    .dataframe tbody tr th:only-of-type {\n        vertical-align: middle;\n    }\n\n    .dataframe tbody tr th {\n        vertical-align: top;\n    }\n\n    .dataframe thead th {\n        text-align: right;\n    }\n</style>\n<table border=\"1\" class=\"dataframe\">\n  <thead>\n    <tr style=\"text-align: right;\">\n      <th></th>\n      <th>date</th>\n      <th>county</th>\n      <th>state</th>\n      <th>fips</th>\n      <th>cases</th>\n      <th>deaths</th>\n      <th>daily_cases</th>\n      <th>daily_deaths</th>\n      <th>retail_and_recreation</th>\n      <th>grocery_and_pharmacy</th>\n      <th>...</th>\n      <th>bachelor_or_higher</th>\n      <th>high_school</th>\n      <th>less_than_high_school</th>\n      <th>poverty_rate</th>\n      <th>daily_cases_100k</th>\n      <th>daily_deaths_100k</th>\n      <th>party_DEMOCRAT</th>\n      <th>ln_cases</th>\n      <th>ln_deaths</th>\n      <th>Year_week</th>\n    </tr>\n  </thead>\n  <tbody>\n    <tr>\n      <th>0</th>\n      <td>2020-03-06</td>\n      <td>Charleston</td>\n      <td>South Carolina</td>\n      <td>45019</td>\n      <td>1</td>\n      <td>0.0</td>\n      <td>1.0</td>\n      <td>0.0</td>\n      <td>9.0</td>\n      <td>5.0</td>\n      <td>...</td>\n      <td>46.738602</td>\n      <td>20.984812</td>\n      <td>7.114868</td>\n      <td>11.9</td>\n      <td>0.256896</td>\n      <td>0.0</td>\n      <td>1</td>\n      <td>-1.359082</td>\n      <td>0.0</td>\n      <td>2020-09</td>\n    </tr>\n    <tr>\n      <th>1</th>\n      <td>2020-03-06</td>\n      <td>Kershaw</td>\n      <td>South Carolina</td>\n      <td>45055</td>\n      <td>1</td>\n      <td>0.0</td>\n      <td>1.0</td>\n      <td>0.0</td>\n      <td>10.0</td>\n      <td>10.0</td>\n      <td>...</td>\n      <td>21.189354</td>\n      <td>35.660776</td>\n      <td>10.230027</td>\n      <td>14.4</td>\n      <td>1.572253</td>\n      <td>0.0</td>\n      <td>1</td>\n      <td>0.452510</td>\n      <td>0.0</td>\n      <td>2020-09</td>\n    </tr>\n    <tr>\n      <th>2</th>\n      <td>2020-03-07</td>\n      <td>Charleston</td>\n      <td>South Carolina</td>\n      <td>45019</td>\n      <td>1</td>\n      <td>0.0</td>\n      <td>0.0</td>\n      <td>0.0</td>\n      <td>7.0</td>\n      <td>5.0</td>\n      <td>...</td>\n      <td>46.738602</td>\n      <td>20.984812</td>\n      <td>7.114868</td>\n      <td>11.9</td>\n      <td>0.000000</td>\n      <td>0.0</td>\n      <td>1</td>\n      <td>0.000000</td>\n      <td>0.0</td>\n      <td>2020-09</td>\n    </tr>\n    <tr>\n      <th>3</th>\n      <td>2020-03-07</td>\n      <td>Kershaw</td>\n      <td>South Carolina</td>\n      <td>45055</td>\n      <td>1</td>\n      <td>0.0</td>\n      <td>0.0</td>\n      <td>0.0</td>\n      <td>11.0</td>\n      <td>14.0</td>\n      <td>...</td>\n      <td>21.189354</td>\n      <td>35.660776</td>\n      <td>10.230027</td>\n      <td>14.4</td>\n      <td>0.000000</td>\n      <td>0.0</td>\n      <td>1</td>\n      <td>0.000000</td>\n      <td>0.0</td>\n      <td>2020-09</td>\n    </tr>\n    <tr>\n      <th>4</th>\n      <td>2020-03-08</td>\n      <td>Charleston</td>\n      <td>South Carolina</td>\n      <td>45019</td>\n      <td>1</td>\n      <td>0.0</td>\n      <td>0.0</td>\n      <td>0.0</td>\n      <td>11.0</td>\n      <td>5.0</td>\n      <td>...</td>\n      <td>46.738602</td>\n      <td>20.984812</td>\n      <td>7.114868</td>\n      <td>11.9</td>\n      <td>0.000000</td>\n      <td>0.0</td>\n      <td>1</td>\n      <td>0.000000</td>\n      <td>0.0</td>\n      <td>2020-10</td>\n    </tr>\n  </tbody>\n</table>\n<p>5 rows × 32 columns</p>\n</div>"
     },
     "execution_count": 26,
     "metadata": {},
     "output_type": "execute_result"
    }
   ],
   "source": [
    "sa = pd.read_csv('output/data/SA.csv', dtype={'fips': 'str'})\n",
    "sa['date'] = pd.to_datetime(sa['date'])\n",
    "sa['ln_cases'] = np.log(sa['daily_cases_100k'])\n",
    "sa.replace([np.inf, -np.inf], 0, inplace=True)\n",
    "sa['ln_cases'] = sa['ln_cases'].astype('float64')\n",
    "sa['ln_deaths'] = np.log(sa['daily_deaths_100k'])\n",
    "sa.replace([np.inf, -np.inf], 0, inplace=True)\n",
    "sa['ln_deaths'] = sa['ln_deaths'].astype('float64')\n",
    "sa['Year_week'] = sa['date'].dt.strftime('%Y-%U')\n",
    "sa.drop(columns=['index'], inplace=True)\n",
    "sa.head(5)"
   ]
  },
  {
   "cell_type": "code",
   "execution_count": 27,
   "metadata": {
    "ExecuteTime": {
     "start_time": "2023-05-17T22:41:03.097114Z",
     "end_time": "2023-05-17T22:41:03.520695Z"
    }
   },
   "outputs": [
    {
     "data": {
      "text/plain": "        date    county state   fips  cases  deaths  daily_cases  daily_deaths  \\\n0 2020-03-09  Cuyahoga  Ohio  39035      3     0.0          3.0           0.0   \n1 2020-03-10  Cuyahoga  Ohio  39035      3     0.0          0.0           0.0   \n2 2020-03-11  Cuyahoga  Ohio  39035      3     0.0          0.0           0.0   \n3 2020-03-11     Stark  Ohio  39151      1     0.0          1.0           0.0   \n4 2020-03-12  Cuyahoga  Ohio  39035      3     0.0          0.0           0.0   \n\n   retail_and_recreation  grocery_and_pharmacy  ...  bachelor_or_higher  \\\n0                    9.0                   8.0  ...           34.374877   \n1                    3.0                   4.0  ...           34.374877   \n2                    5.0                   8.0  ...           34.374877   \n3                    9.0                  15.0  ...           23.584225   \n4                    5.0                  29.0  ...           34.374877   \n\n   high_school  less_than_high_school  poverty_rate  daily_cases_100k  \\\n0    27.336715               9.283024          15.3          0.238869   \n1    27.336715               9.283024          15.3          0.000000   \n2    27.336715               9.283024          15.3          0.000000   \n3    38.175058               7.703114          13.2          0.266549   \n4    27.336715               9.283024          15.3          0.000000   \n\n   daily_deaths_100k  party_DEMOCRAT  ln_cases  ln_deaths  Year_week  \n0                0.0               1 -1.431842        0.0    2020-10  \n1                0.0               1  0.000000        0.0    2020-10  \n2                0.0               1  0.000000        0.0    2020-10  \n3                0.0               1 -1.322196        0.0    2020-10  \n4                0.0               1  0.000000        0.0    2020-10  \n\n[5 rows x 32 columns]",
      "text/html": "<div>\n<style scoped>\n    .dataframe tbody tr th:only-of-type {\n        vertical-align: middle;\n    }\n\n    .dataframe tbody tr th {\n        vertical-align: top;\n    }\n\n    .dataframe thead th {\n        text-align: right;\n    }\n</style>\n<table border=\"1\" class=\"dataframe\">\n  <thead>\n    <tr style=\"text-align: right;\">\n      <th></th>\n      <th>date</th>\n      <th>county</th>\n      <th>state</th>\n      <th>fips</th>\n      <th>cases</th>\n      <th>deaths</th>\n      <th>daily_cases</th>\n      <th>daily_deaths</th>\n      <th>retail_and_recreation</th>\n      <th>grocery_and_pharmacy</th>\n      <th>...</th>\n      <th>bachelor_or_higher</th>\n      <th>high_school</th>\n      <th>less_than_high_school</th>\n      <th>poverty_rate</th>\n      <th>daily_cases_100k</th>\n      <th>daily_deaths_100k</th>\n      <th>party_DEMOCRAT</th>\n      <th>ln_cases</th>\n      <th>ln_deaths</th>\n      <th>Year_week</th>\n    </tr>\n  </thead>\n  <tbody>\n    <tr>\n      <th>0</th>\n      <td>2020-03-09</td>\n      <td>Cuyahoga</td>\n      <td>Ohio</td>\n      <td>39035</td>\n      <td>3</td>\n      <td>0.0</td>\n      <td>3.0</td>\n      <td>0.0</td>\n      <td>9.0</td>\n      <td>8.0</td>\n      <td>...</td>\n      <td>34.374877</td>\n      <td>27.336715</td>\n      <td>9.283024</td>\n      <td>15.3</td>\n      <td>0.238869</td>\n      <td>0.0</td>\n      <td>1</td>\n      <td>-1.431842</td>\n      <td>0.0</td>\n      <td>2020-10</td>\n    </tr>\n    <tr>\n      <th>1</th>\n      <td>2020-03-10</td>\n      <td>Cuyahoga</td>\n      <td>Ohio</td>\n      <td>39035</td>\n      <td>3</td>\n      <td>0.0</td>\n      <td>0.0</td>\n      <td>0.0</td>\n      <td>3.0</td>\n      <td>4.0</td>\n      <td>...</td>\n      <td>34.374877</td>\n      <td>27.336715</td>\n      <td>9.283024</td>\n      <td>15.3</td>\n      <td>0.000000</td>\n      <td>0.0</td>\n      <td>1</td>\n      <td>0.000000</td>\n      <td>0.0</td>\n      <td>2020-10</td>\n    </tr>\n    <tr>\n      <th>2</th>\n      <td>2020-03-11</td>\n      <td>Cuyahoga</td>\n      <td>Ohio</td>\n      <td>39035</td>\n      <td>3</td>\n      <td>0.0</td>\n      <td>0.0</td>\n      <td>0.0</td>\n      <td>5.0</td>\n      <td>8.0</td>\n      <td>...</td>\n      <td>34.374877</td>\n      <td>27.336715</td>\n      <td>9.283024</td>\n      <td>15.3</td>\n      <td>0.000000</td>\n      <td>0.0</td>\n      <td>1</td>\n      <td>0.000000</td>\n      <td>0.0</td>\n      <td>2020-10</td>\n    </tr>\n    <tr>\n      <th>3</th>\n      <td>2020-03-11</td>\n      <td>Stark</td>\n      <td>Ohio</td>\n      <td>39151</td>\n      <td>1</td>\n      <td>0.0</td>\n      <td>1.0</td>\n      <td>0.0</td>\n      <td>9.0</td>\n      <td>15.0</td>\n      <td>...</td>\n      <td>23.584225</td>\n      <td>38.175058</td>\n      <td>7.703114</td>\n      <td>13.2</td>\n      <td>0.266549</td>\n      <td>0.0</td>\n      <td>1</td>\n      <td>-1.322196</td>\n      <td>0.0</td>\n      <td>2020-10</td>\n    </tr>\n    <tr>\n      <th>4</th>\n      <td>2020-03-12</td>\n      <td>Cuyahoga</td>\n      <td>Ohio</td>\n      <td>39035</td>\n      <td>3</td>\n      <td>0.0</td>\n      <td>0.0</td>\n      <td>0.0</td>\n      <td>5.0</td>\n      <td>29.0</td>\n      <td>...</td>\n      <td>34.374877</td>\n      <td>27.336715</td>\n      <td>9.283024</td>\n      <td>15.3</td>\n      <td>0.000000</td>\n      <td>0.0</td>\n      <td>1</td>\n      <td>0.000000</td>\n      <td>0.0</td>\n      <td>2020-10</td>\n    </tr>\n  </tbody>\n</table>\n<p>5 rows × 32 columns</p>\n</div>"
     },
     "execution_count": 27,
     "metadata": {},
     "output_type": "execute_result"
    }
   ],
   "source": [
    "oh = pd.read_csv('output/data/OH.csv', dtype={'fips': 'str'})\n",
    "oh['date'] = pd.to_datetime(oh['date'])\n",
    "oh['ln_cases'] = np.log(oh['daily_cases_100k'])\n",
    "oh.replace([np.inf, -np.inf], 0, inplace=True)\n",
    "oh['ln_cases'] = oh['ln_cases'].astype('float64')\n",
    "oh['ln_deaths'] = np.log(oh['daily_deaths_100k'])\n",
    "oh.replace([np.inf, -np.inf], 0, inplace=True)\n",
    "oh['ln_deaths'] = oh['ln_deaths'].astype('float64')\n",
    "oh['Year_week'] = oh['date'].dt.strftime('%Y-%U')\n",
    "oh.drop(columns=['index'], inplace=True)\n",
    "oh.head(5)"
   ]
  },
  {
   "cell_type": "code",
   "execution_count": 28,
   "metadata": {
    "ExecuteTime": {
     "start_time": "2023-05-17T22:41:03.514248Z",
     "end_time": "2023-05-17T22:41:03.629265Z"
    }
   },
   "outputs": [
    {
     "data": {
      "text/plain": "        date      county     state   fips  cases  deaths  daily_cases  \\\n0 2020-03-05  Montgomery  Maryland  24031      3     0.0          3.0   \n1 2020-03-06  Montgomery  Maryland  24031      3     0.0          0.0   \n2 2020-03-07  Montgomery  Maryland  24031      3     0.0          0.0   \n3 2020-03-08     Harford  Maryland  24025      1     0.0          1.0   \n4 2020-03-08  Montgomery  Maryland  24031      4     0.0          1.0   \n\n   daily_deaths  retail_and_recreation  grocery_and_pharmacy  ...  \\\n0           0.0                    4.0                   4.0  ...   \n1           0.0                   -1.0                   3.0  ...   \n2           0.0                    1.0                   2.0  ...   \n3           0.0                   11.0                   2.0  ...   \n4           0.0                    2.0                   2.0  ...   \n\n   bachelor_or_higher  high_school  less_than_high_school  poverty_rate  \\\n0           59.781093    13.129228               8.768636           6.7   \n1           59.781093    13.129228               8.768636           6.7   \n2           59.781093    13.129228               8.768636           6.7   \n3           37.698215    26.170423               6.267963           6.2   \n4           59.781093    13.129228               8.768636           6.7   \n\n   daily_cases_100k  daily_deaths_100k  party_DEMOCRAT  ln_cases  ln_deaths  \\\n0          0.288429                0.0               1 -1.243305        0.0   \n1          0.000000                0.0               1  0.000000        0.0   \n2          0.000000                0.0               1  0.000000        0.0   \n3          0.399537                0.0               1 -0.917450        0.0   \n4          0.096143                0.0               1 -2.341917        0.0   \n\n   Year_week  \n0    2020-09  \n1    2020-09  \n2    2020-09  \n3    2020-10  \n4    2020-10  \n\n[5 rows x 32 columns]",
      "text/html": "<div>\n<style scoped>\n    .dataframe tbody tr th:only-of-type {\n        vertical-align: middle;\n    }\n\n    .dataframe tbody tr th {\n        vertical-align: top;\n    }\n\n    .dataframe thead th {\n        text-align: right;\n    }\n</style>\n<table border=\"1\" class=\"dataframe\">\n  <thead>\n    <tr style=\"text-align: right;\">\n      <th></th>\n      <th>date</th>\n      <th>county</th>\n      <th>state</th>\n      <th>fips</th>\n      <th>cases</th>\n      <th>deaths</th>\n      <th>daily_cases</th>\n      <th>daily_deaths</th>\n      <th>retail_and_recreation</th>\n      <th>grocery_and_pharmacy</th>\n      <th>...</th>\n      <th>bachelor_or_higher</th>\n      <th>high_school</th>\n      <th>less_than_high_school</th>\n      <th>poverty_rate</th>\n      <th>daily_cases_100k</th>\n      <th>daily_deaths_100k</th>\n      <th>party_DEMOCRAT</th>\n      <th>ln_cases</th>\n      <th>ln_deaths</th>\n      <th>Year_week</th>\n    </tr>\n  </thead>\n  <tbody>\n    <tr>\n      <th>0</th>\n      <td>2020-03-05</td>\n      <td>Montgomery</td>\n      <td>Maryland</td>\n      <td>24031</td>\n      <td>3</td>\n      <td>0.0</td>\n      <td>3.0</td>\n      <td>0.0</td>\n      <td>4.0</td>\n      <td>4.0</td>\n      <td>...</td>\n      <td>59.781093</td>\n      <td>13.129228</td>\n      <td>8.768636</td>\n      <td>6.7</td>\n      <td>0.288429</td>\n      <td>0.0</td>\n      <td>1</td>\n      <td>-1.243305</td>\n      <td>0.0</td>\n      <td>2020-09</td>\n    </tr>\n    <tr>\n      <th>1</th>\n      <td>2020-03-06</td>\n      <td>Montgomery</td>\n      <td>Maryland</td>\n      <td>24031</td>\n      <td>3</td>\n      <td>0.0</td>\n      <td>0.0</td>\n      <td>0.0</td>\n      <td>-1.0</td>\n      <td>3.0</td>\n      <td>...</td>\n      <td>59.781093</td>\n      <td>13.129228</td>\n      <td>8.768636</td>\n      <td>6.7</td>\n      <td>0.000000</td>\n      <td>0.0</td>\n      <td>1</td>\n      <td>0.000000</td>\n      <td>0.0</td>\n      <td>2020-09</td>\n    </tr>\n    <tr>\n      <th>2</th>\n      <td>2020-03-07</td>\n      <td>Montgomery</td>\n      <td>Maryland</td>\n      <td>24031</td>\n      <td>3</td>\n      <td>0.0</td>\n      <td>0.0</td>\n      <td>0.0</td>\n      <td>1.0</td>\n      <td>2.0</td>\n      <td>...</td>\n      <td>59.781093</td>\n      <td>13.129228</td>\n      <td>8.768636</td>\n      <td>6.7</td>\n      <td>0.000000</td>\n      <td>0.0</td>\n      <td>1</td>\n      <td>0.000000</td>\n      <td>0.0</td>\n      <td>2020-09</td>\n    </tr>\n    <tr>\n      <th>3</th>\n      <td>2020-03-08</td>\n      <td>Harford</td>\n      <td>Maryland</td>\n      <td>24025</td>\n      <td>1</td>\n      <td>0.0</td>\n      <td>1.0</td>\n      <td>0.0</td>\n      <td>11.0</td>\n      <td>2.0</td>\n      <td>...</td>\n      <td>37.698215</td>\n      <td>26.170423</td>\n      <td>6.267963</td>\n      <td>6.2</td>\n      <td>0.399537</td>\n      <td>0.0</td>\n      <td>1</td>\n      <td>-0.917450</td>\n      <td>0.0</td>\n      <td>2020-10</td>\n    </tr>\n    <tr>\n      <th>4</th>\n      <td>2020-03-08</td>\n      <td>Montgomery</td>\n      <td>Maryland</td>\n      <td>24031</td>\n      <td>4</td>\n      <td>0.0</td>\n      <td>1.0</td>\n      <td>0.0</td>\n      <td>2.0</td>\n      <td>2.0</td>\n      <td>...</td>\n      <td>59.781093</td>\n      <td>13.129228</td>\n      <td>8.768636</td>\n      <td>6.7</td>\n      <td>0.096143</td>\n      <td>0.0</td>\n      <td>1</td>\n      <td>-2.341917</td>\n      <td>0.0</td>\n      <td>2020-10</td>\n    </tr>\n  </tbody>\n</table>\n<p>5 rows × 32 columns</p>\n</div>"
     },
     "execution_count": 28,
     "metadata": {},
     "output_type": "execute_result"
    }
   ],
   "source": [
    "md = pd.read_csv('output/data/MD.csv', dtype={'fips': 'str'})\n",
    "md['date'] = pd.to_datetime(md['date'])\n",
    "md['ln_cases'] = np.log(md['daily_cases_100k'])\n",
    "md.replace([np.inf, -np.inf], 0, inplace=True)\n",
    "md['ln_cases'] = md['ln_cases'].astype('float64')\n",
    "md['ln_deaths'] = np.log(md['daily_deaths_100k'])\n",
    "md.replace([np.inf, -np.inf], 0, inplace=True)\n",
    "md['ln_deaths'] = md['ln_deaths'].astype('float64')\n",
    "md['Year_week'] = md['date'].dt.strftime('%Y-%U')\n",
    "md.drop(columns=['index'], inplace=True)\n",
    "md.head(5)"
   ]
  },
  {
   "cell_type": "code",
   "execution_count": 29,
   "metadata": {
    "ExecuteTime": {
     "start_time": "2023-05-17T22:41:03.632213Z",
     "end_time": "2023-05-17T22:41:03.723173Z"
    }
   },
   "outputs": [
    {
     "data": {
      "text/plain": "        date        county  state   fips  cases  deaths  daily_cases  \\\n0 2020-03-12  Androscoggin  Maine  23001      1     0.0          1.0   \n1 2020-03-13  Androscoggin  Maine  23001      1     0.0          0.0   \n2 2020-03-13    Cumberland  Maine  23005      1     0.0          1.0   \n3 2020-03-14  Androscoggin  Maine  23001      1     0.0          0.0   \n4 2020-03-14    Cumberland  Maine  23005      2     0.0          1.0   \n\n   daily_deaths  retail_and_recreation  grocery_and_pharmacy  ...  \\\n0           0.0                   12.0                  36.0  ...   \n1           0.0                   -6.0                  21.0  ...   \n2           0.0                   -6.0                  25.0  ...   \n3           0.0                   -4.0                  16.0  ...   \n4           0.0                   -7.0                  19.0  ...   \n\n   bachelor_or_higher  high_school  less_than_high_school  poverty_rate  \\\n0           22.921006    35.568111               8.211831          11.7   \n1           22.921006    35.568111               8.211831          11.7   \n2           49.809385    20.368462               4.333531           8.6   \n3           22.921006    35.568111               8.211831          11.7   \n4           49.809385    20.368462               4.333531           8.6   \n\n   daily_cases_100k  daily_deaths_100k  party_DEMOCRAT  ln_cases  ln_deaths  \\\n0          0.932549                0.0               1 -0.069834        0.0   \n1          0.000000                0.0               1  0.000000        0.0   \n2          0.344855                0.0               1 -1.064631        0.0   \n3          0.000000                0.0               1  0.000000        0.0   \n4          0.344855                0.0               1 -1.064631        0.0   \n\n   Year_week  \n0    2020-10  \n1    2020-10  \n2    2020-10  \n3    2020-10  \n4    2020-10  \n\n[5 rows x 32 columns]",
      "text/html": "<div>\n<style scoped>\n    .dataframe tbody tr th:only-of-type {\n        vertical-align: middle;\n    }\n\n    .dataframe tbody tr th {\n        vertical-align: top;\n    }\n\n    .dataframe thead th {\n        text-align: right;\n    }\n</style>\n<table border=\"1\" class=\"dataframe\">\n  <thead>\n    <tr style=\"text-align: right;\">\n      <th></th>\n      <th>date</th>\n      <th>county</th>\n      <th>state</th>\n      <th>fips</th>\n      <th>cases</th>\n      <th>deaths</th>\n      <th>daily_cases</th>\n      <th>daily_deaths</th>\n      <th>retail_and_recreation</th>\n      <th>grocery_and_pharmacy</th>\n      <th>...</th>\n      <th>bachelor_or_higher</th>\n      <th>high_school</th>\n      <th>less_than_high_school</th>\n      <th>poverty_rate</th>\n      <th>daily_cases_100k</th>\n      <th>daily_deaths_100k</th>\n      <th>party_DEMOCRAT</th>\n      <th>ln_cases</th>\n      <th>ln_deaths</th>\n      <th>Year_week</th>\n    </tr>\n  </thead>\n  <tbody>\n    <tr>\n      <th>0</th>\n      <td>2020-03-12</td>\n      <td>Androscoggin</td>\n      <td>Maine</td>\n      <td>23001</td>\n      <td>1</td>\n      <td>0.0</td>\n      <td>1.0</td>\n      <td>0.0</td>\n      <td>12.0</td>\n      <td>36.0</td>\n      <td>...</td>\n      <td>22.921006</td>\n      <td>35.568111</td>\n      <td>8.211831</td>\n      <td>11.7</td>\n      <td>0.932549</td>\n      <td>0.0</td>\n      <td>1</td>\n      <td>-0.069834</td>\n      <td>0.0</td>\n      <td>2020-10</td>\n    </tr>\n    <tr>\n      <th>1</th>\n      <td>2020-03-13</td>\n      <td>Androscoggin</td>\n      <td>Maine</td>\n      <td>23001</td>\n      <td>1</td>\n      <td>0.0</td>\n      <td>0.0</td>\n      <td>0.0</td>\n      <td>-6.0</td>\n      <td>21.0</td>\n      <td>...</td>\n      <td>22.921006</td>\n      <td>35.568111</td>\n      <td>8.211831</td>\n      <td>11.7</td>\n      <td>0.000000</td>\n      <td>0.0</td>\n      <td>1</td>\n      <td>0.000000</td>\n      <td>0.0</td>\n      <td>2020-10</td>\n    </tr>\n    <tr>\n      <th>2</th>\n      <td>2020-03-13</td>\n      <td>Cumberland</td>\n      <td>Maine</td>\n      <td>23005</td>\n      <td>1</td>\n      <td>0.0</td>\n      <td>1.0</td>\n      <td>0.0</td>\n      <td>-6.0</td>\n      <td>25.0</td>\n      <td>...</td>\n      <td>49.809385</td>\n      <td>20.368462</td>\n      <td>4.333531</td>\n      <td>8.6</td>\n      <td>0.344855</td>\n      <td>0.0</td>\n      <td>1</td>\n      <td>-1.064631</td>\n      <td>0.0</td>\n      <td>2020-10</td>\n    </tr>\n    <tr>\n      <th>3</th>\n      <td>2020-03-14</td>\n      <td>Androscoggin</td>\n      <td>Maine</td>\n      <td>23001</td>\n      <td>1</td>\n      <td>0.0</td>\n      <td>0.0</td>\n      <td>0.0</td>\n      <td>-4.0</td>\n      <td>16.0</td>\n      <td>...</td>\n      <td>22.921006</td>\n      <td>35.568111</td>\n      <td>8.211831</td>\n      <td>11.7</td>\n      <td>0.000000</td>\n      <td>0.0</td>\n      <td>1</td>\n      <td>0.000000</td>\n      <td>0.0</td>\n      <td>2020-10</td>\n    </tr>\n    <tr>\n      <th>4</th>\n      <td>2020-03-14</td>\n      <td>Cumberland</td>\n      <td>Maine</td>\n      <td>23005</td>\n      <td>2</td>\n      <td>0.0</td>\n      <td>1.0</td>\n      <td>0.0</td>\n      <td>-7.0</td>\n      <td>19.0</td>\n      <td>...</td>\n      <td>49.809385</td>\n      <td>20.368462</td>\n      <td>4.333531</td>\n      <td>8.6</td>\n      <td>0.344855</td>\n      <td>0.0</td>\n      <td>1</td>\n      <td>-1.064631</td>\n      <td>0.0</td>\n      <td>2020-10</td>\n    </tr>\n  </tbody>\n</table>\n<p>5 rows × 32 columns</p>\n</div>"
     },
     "execution_count": 29,
     "metadata": {},
     "output_type": "execute_result"
    }
   ],
   "source": [
    "me = pd.read_csv('output/data/ME.csv', dtype={'fips': 'str'})\n",
    "me['date'] = pd.to_datetime(me['date'])\n",
    "me['ln_cases'] = np.log(me['daily_cases_100k'])\n",
    "me.replace([np.inf, -np.inf], 0, inplace=True)\n",
    "me['ln_cases'] = me['ln_cases'].astype('float64')\n",
    "me['ln_deaths'] = np.log(me['daily_deaths_100k'])\n",
    "me.replace([np.inf, -np.inf], 0, inplace=True)\n",
    "me['ln_deaths'] = me['ln_deaths'].astype('float64')\n",
    "me['Year_week'] = me['date'].dt.strftime('%Y-%U')\n",
    "me.drop(columns=['index'], inplace=True)\n",
    "me.head(5)"
   ]
  },
  {
   "cell_type": "code",
   "execution_count": 30,
   "metadata": {
    "ExecuteTime": {
     "start_time": "2023-05-17T22:41:03.712750Z",
     "end_time": "2023-05-17T22:41:03.944392Z"
    }
   },
   "outputs": [
    {
     "data": {
      "text/plain": "        date       county     state   fips  cases  deaths  daily_cases  \\\n0 2020-03-04  Westchester  New York  36119      9     0.0          9.0   \n1 2020-03-05       Nassau  New York  36059      1     0.0          1.0   \n2 2020-03-05  Westchester  New York  36119     17     0.0          8.0   \n3 2020-03-06       Nassau  New York  36059      4     0.0          3.0   \n4 2020-03-06     Rockland  New York  36087      2     0.0          2.0   \n\n   daily_deaths  retail_and_recreation  grocery_and_pharmacy  ...  \\\n0           0.0                    7.0                   6.0  ...   \n1           0.0                    5.0                   7.0  ...   \n2           0.0                    6.0                   6.0  ...   \n3           0.0                   -1.0                   4.0  ...   \n4           0.0                   -2.0                   3.0  ...   \n\n   some_college  bachelor_or_higher  high_school  less_than_high_school  \\\n0     19.767242           50.649474    18.434973              11.148311   \n1     22.421977           47.481852    21.799113               8.297058   \n2     19.767242           50.649474    18.434973              11.148311   \n3     22.421977           47.481852    21.799113               8.297058   \n4     24.770103           41.964469    22.121321              11.144107   \n\n   poverty_rate  daily_cases_100k  daily_deaths_100k  party_DEMOCRAT  \\\n0           7.6          0.921757                0.0               1   \n1           5.7          0.073456                0.0               1   \n2           7.6          0.819340                0.0               1   \n3           5.7          0.220369                0.0               1   \n4          14.4          0.613427                0.0               1   \n\n   ln_cases  Year_week  \n0 -0.081473    2020-09  \n1 -2.611062    2020-09  \n2 -0.199257    2020-09  \n3 -1.512450    2020-09  \n4 -0.488694    2020-09  \n\n[5 rows x 31 columns]",
      "text/html": "<div>\n<style scoped>\n    .dataframe tbody tr th:only-of-type {\n        vertical-align: middle;\n    }\n\n    .dataframe tbody tr th {\n        vertical-align: top;\n    }\n\n    .dataframe thead th {\n        text-align: right;\n    }\n</style>\n<table border=\"1\" class=\"dataframe\">\n  <thead>\n    <tr style=\"text-align: right;\">\n      <th></th>\n      <th>date</th>\n      <th>county</th>\n      <th>state</th>\n      <th>fips</th>\n      <th>cases</th>\n      <th>deaths</th>\n      <th>daily_cases</th>\n      <th>daily_deaths</th>\n      <th>retail_and_recreation</th>\n      <th>grocery_and_pharmacy</th>\n      <th>...</th>\n      <th>some_college</th>\n      <th>bachelor_or_higher</th>\n      <th>high_school</th>\n      <th>less_than_high_school</th>\n      <th>poverty_rate</th>\n      <th>daily_cases_100k</th>\n      <th>daily_deaths_100k</th>\n      <th>party_DEMOCRAT</th>\n      <th>ln_cases</th>\n      <th>Year_week</th>\n    </tr>\n  </thead>\n  <tbody>\n    <tr>\n      <th>0</th>\n      <td>2020-03-04</td>\n      <td>Westchester</td>\n      <td>New York</td>\n      <td>36119</td>\n      <td>9</td>\n      <td>0.0</td>\n      <td>9.0</td>\n      <td>0.0</td>\n      <td>7.0</td>\n      <td>6.0</td>\n      <td>...</td>\n      <td>19.767242</td>\n      <td>50.649474</td>\n      <td>18.434973</td>\n      <td>11.148311</td>\n      <td>7.6</td>\n      <td>0.921757</td>\n      <td>0.0</td>\n      <td>1</td>\n      <td>-0.081473</td>\n      <td>2020-09</td>\n    </tr>\n    <tr>\n      <th>1</th>\n      <td>2020-03-05</td>\n      <td>Nassau</td>\n      <td>New York</td>\n      <td>36059</td>\n      <td>1</td>\n      <td>0.0</td>\n      <td>1.0</td>\n      <td>0.0</td>\n      <td>5.0</td>\n      <td>7.0</td>\n      <td>...</td>\n      <td>22.421977</td>\n      <td>47.481852</td>\n      <td>21.799113</td>\n      <td>8.297058</td>\n      <td>5.7</td>\n      <td>0.073456</td>\n      <td>0.0</td>\n      <td>1</td>\n      <td>-2.611062</td>\n      <td>2020-09</td>\n    </tr>\n    <tr>\n      <th>2</th>\n      <td>2020-03-05</td>\n      <td>Westchester</td>\n      <td>New York</td>\n      <td>36119</td>\n      <td>17</td>\n      <td>0.0</td>\n      <td>8.0</td>\n      <td>0.0</td>\n      <td>6.0</td>\n      <td>6.0</td>\n      <td>...</td>\n      <td>19.767242</td>\n      <td>50.649474</td>\n      <td>18.434973</td>\n      <td>11.148311</td>\n      <td>7.6</td>\n      <td>0.819340</td>\n      <td>0.0</td>\n      <td>1</td>\n      <td>-0.199257</td>\n      <td>2020-09</td>\n    </tr>\n    <tr>\n      <th>3</th>\n      <td>2020-03-06</td>\n      <td>Nassau</td>\n      <td>New York</td>\n      <td>36059</td>\n      <td>4</td>\n      <td>0.0</td>\n      <td>3.0</td>\n      <td>0.0</td>\n      <td>-1.0</td>\n      <td>4.0</td>\n      <td>...</td>\n      <td>22.421977</td>\n      <td>47.481852</td>\n      <td>21.799113</td>\n      <td>8.297058</td>\n      <td>5.7</td>\n      <td>0.220369</td>\n      <td>0.0</td>\n      <td>1</td>\n      <td>-1.512450</td>\n      <td>2020-09</td>\n    </tr>\n    <tr>\n      <th>4</th>\n      <td>2020-03-06</td>\n      <td>Rockland</td>\n      <td>New York</td>\n      <td>36087</td>\n      <td>2</td>\n      <td>0.0</td>\n      <td>2.0</td>\n      <td>0.0</td>\n      <td>-2.0</td>\n      <td>3.0</td>\n      <td>...</td>\n      <td>24.770103</td>\n      <td>41.964469</td>\n      <td>22.121321</td>\n      <td>11.144107</td>\n      <td>14.4</td>\n      <td>0.613427</td>\n      <td>0.0</td>\n      <td>1</td>\n      <td>-0.488694</td>\n      <td>2020-09</td>\n    </tr>\n  </tbody>\n</table>\n<p>5 rows × 31 columns</p>\n</div>"
     },
     "execution_count": 30,
     "metadata": {},
     "output_type": "execute_result"
    }
   ],
   "source": [
    "ny = pd.read_csv('output/data/NY.csv', dtype={'fips': 'str'})\n",
    "ny['date'] = pd.to_datetime(ny['date'])\n",
    "ny['ln_cases'] = np.log(ny['daily_cases_100k'])\n",
    "ny.replace([np.inf, -np.inf], 0, inplace=True)\n",
    "ny['ln_cases'] = ny['ln_cases'].astype('float64')\n",
    "ny['Year_week'] = ny['date'].dt.strftime('%Y-%U')\n",
    "ny.drop(columns=['index'], inplace=True)\n",
    "ny.head(5)"
   ]
  },
  {
   "cell_type": "code",
   "execution_count": 31,
   "metadata": {
    "ExecuteTime": {
     "start_time": "2023-05-17T22:41:03.946083Z",
     "end_time": "2023-05-17T22:41:04.202057Z"
    }
   },
   "outputs": [
    {
     "data": {
      "text/plain": "        date      county         state   fips  cases  deaths  daily_cases  \\\n0 2020-03-06    Delaware  Pennsylvania  42045      1     0.0          1.0   \n1 2020-03-06       Wayne  Pennsylvania  42127      1     0.0          1.0   \n2 2020-03-07    Delaware  Pennsylvania  42045      1     0.0          0.0   \n3 2020-03-07  Montgomery  Pennsylvania  42091      2     0.0          2.0   \n4 2020-03-07       Wayne  Pennsylvania  42127      1     0.0          0.0   \n\n   daily_deaths  retail_and_recreation  grocery_and_pharmacy  ...  \\\n0           0.0                   -1.0                   1.0  ...   \n1           0.0                    0.0                   9.0  ...   \n2           0.0                    7.0                   9.0  ...   \n3           0.0                    4.0                   7.0  ...   \n4           0.0                   11.0                   8.0  ...   \n\n   bachelor_or_higher  high_school  less_than_high_school  poverty_rate  \\\n0           40.547734    27.916247               6.562482           9.3   \n1           19.591691    44.293596               9.472962          10.5   \n2           40.547734    27.916247               6.562482           9.3   \n3           50.747544    22.763877               5.342989           5.6   \n4           19.591691    44.293596               9.472962          10.5   \n\n   daily_cases_100k  daily_deaths_100k  party_DEMOCRAT  ln_cases  ln_deaths  \\\n0          0.177338                0.0               1 -1.729696       -inf   \n1          1.953201                0.0               1  0.669470       -inf   \n2          0.000000                0.0               1  0.000000       -inf   \n3          0.244122                0.0               1 -1.410089       -inf   \n4          0.000000                0.0               1  0.000000       -inf   \n\n   Year_week  \n0    2020-09  \n1    2020-09  \n2    2020-09  \n3    2020-09  \n4    2020-09  \n\n[5 rows x 32 columns]",
      "text/html": "<div>\n<style scoped>\n    .dataframe tbody tr th:only-of-type {\n        vertical-align: middle;\n    }\n\n    .dataframe tbody tr th {\n        vertical-align: top;\n    }\n\n    .dataframe thead th {\n        text-align: right;\n    }\n</style>\n<table border=\"1\" class=\"dataframe\">\n  <thead>\n    <tr style=\"text-align: right;\">\n      <th></th>\n      <th>date</th>\n      <th>county</th>\n      <th>state</th>\n      <th>fips</th>\n      <th>cases</th>\n      <th>deaths</th>\n      <th>daily_cases</th>\n      <th>daily_deaths</th>\n      <th>retail_and_recreation</th>\n      <th>grocery_and_pharmacy</th>\n      <th>...</th>\n      <th>bachelor_or_higher</th>\n      <th>high_school</th>\n      <th>less_than_high_school</th>\n      <th>poverty_rate</th>\n      <th>daily_cases_100k</th>\n      <th>daily_deaths_100k</th>\n      <th>party_DEMOCRAT</th>\n      <th>ln_cases</th>\n      <th>ln_deaths</th>\n      <th>Year_week</th>\n    </tr>\n  </thead>\n  <tbody>\n    <tr>\n      <th>0</th>\n      <td>2020-03-06</td>\n      <td>Delaware</td>\n      <td>Pennsylvania</td>\n      <td>42045</td>\n      <td>1</td>\n      <td>0.0</td>\n      <td>1.0</td>\n      <td>0.0</td>\n      <td>-1.0</td>\n      <td>1.0</td>\n      <td>...</td>\n      <td>40.547734</td>\n      <td>27.916247</td>\n      <td>6.562482</td>\n      <td>9.3</td>\n      <td>0.177338</td>\n      <td>0.0</td>\n      <td>1</td>\n      <td>-1.729696</td>\n      <td>-inf</td>\n      <td>2020-09</td>\n    </tr>\n    <tr>\n      <th>1</th>\n      <td>2020-03-06</td>\n      <td>Wayne</td>\n      <td>Pennsylvania</td>\n      <td>42127</td>\n      <td>1</td>\n      <td>0.0</td>\n      <td>1.0</td>\n      <td>0.0</td>\n      <td>0.0</td>\n      <td>9.0</td>\n      <td>...</td>\n      <td>19.591691</td>\n      <td>44.293596</td>\n      <td>9.472962</td>\n      <td>10.5</td>\n      <td>1.953201</td>\n      <td>0.0</td>\n      <td>1</td>\n      <td>0.669470</td>\n      <td>-inf</td>\n      <td>2020-09</td>\n    </tr>\n    <tr>\n      <th>2</th>\n      <td>2020-03-07</td>\n      <td>Delaware</td>\n      <td>Pennsylvania</td>\n      <td>42045</td>\n      <td>1</td>\n      <td>0.0</td>\n      <td>0.0</td>\n      <td>0.0</td>\n      <td>7.0</td>\n      <td>9.0</td>\n      <td>...</td>\n      <td>40.547734</td>\n      <td>27.916247</td>\n      <td>6.562482</td>\n      <td>9.3</td>\n      <td>0.000000</td>\n      <td>0.0</td>\n      <td>1</td>\n      <td>0.000000</td>\n      <td>-inf</td>\n      <td>2020-09</td>\n    </tr>\n    <tr>\n      <th>3</th>\n      <td>2020-03-07</td>\n      <td>Montgomery</td>\n      <td>Pennsylvania</td>\n      <td>42091</td>\n      <td>2</td>\n      <td>0.0</td>\n      <td>2.0</td>\n      <td>0.0</td>\n      <td>4.0</td>\n      <td>7.0</td>\n      <td>...</td>\n      <td>50.747544</td>\n      <td>22.763877</td>\n      <td>5.342989</td>\n      <td>5.6</td>\n      <td>0.244122</td>\n      <td>0.0</td>\n      <td>1</td>\n      <td>-1.410089</td>\n      <td>-inf</td>\n      <td>2020-09</td>\n    </tr>\n    <tr>\n      <th>4</th>\n      <td>2020-03-07</td>\n      <td>Wayne</td>\n      <td>Pennsylvania</td>\n      <td>42127</td>\n      <td>1</td>\n      <td>0.0</td>\n      <td>0.0</td>\n      <td>0.0</td>\n      <td>11.0</td>\n      <td>8.0</td>\n      <td>...</td>\n      <td>19.591691</td>\n      <td>44.293596</td>\n      <td>9.472962</td>\n      <td>10.5</td>\n      <td>0.000000</td>\n      <td>0.0</td>\n      <td>1</td>\n      <td>0.000000</td>\n      <td>-inf</td>\n      <td>2020-09</td>\n    </tr>\n  </tbody>\n</table>\n<p>5 rows × 32 columns</p>\n</div>"
     },
     "execution_count": 31,
     "metadata": {},
     "output_type": "execute_result"
    }
   ],
   "source": [
    "pa = pd.read_csv('output/data/PA.csv', dtype={'fips': 'str'})\n",
    "pa['date'] = pd.to_datetime(pa['date'])\n",
    "pa['ln_cases'] = np.log(pa['daily_cases_100k'])\n",
    "pa.replace([np.inf, -np.inf], 0, inplace=True)\n",
    "pa['ln_cases'] = pa['ln_cases'].astype('float64')\n",
    "pa['ln_deaths'] = np.log(pa['daily_deaths_100k'])\n",
    "pa['Year_week'] = pa['date'].dt.strftime('%Y-%U')\n",
    "pa.drop(columns=['index'], inplace=True)\n",
    "pa.head(5)"
   ]
  },
  {
   "cell_type": "code",
   "execution_count": 32,
   "metadata": {
    "ExecuteTime": {
     "start_time": "2023-05-17T22:41:04.214199Z",
     "end_time": "2023-05-17T22:41:04.304884Z"
    }
   },
   "outputs": [
    {
     "data": {
      "text/plain": "                             ca        md        me        ny        oh  \\\ndate                   0.000000  0.000000  0.000000  0.000000  0.000000   \ncounty                 0.000000  0.000000  0.000000  0.000000  0.000000   \nstate                  0.000000  0.000000  0.000000  0.000000  0.000000   \nfips                   0.000000  0.000000  0.000000  0.000000  0.000000   \ncases                  0.000000  0.000000  0.000000  0.000000  0.000000   \ndeaths                 0.000000  0.000000  0.000000  0.000000  0.000000   \ndaily_cases            0.000000  0.000000  0.000000  0.000000  0.000000   \ndaily_deaths           0.000000  0.000000  0.000000  0.000000  0.000000   \nretail_and_recreation  0.063220  0.069866  0.105458  0.076692  0.143593   \ngrocery_and_pharmacy   0.118056  0.173462  0.266995  0.126569  0.220162   \nparks                  0.225627  0.530856  0.766721  0.717896  0.813797   \ntransit_stations       0.239736  0.472441  0.757078  0.545925  0.544298   \nworkplaces             0.001927  0.004500  0.006360  0.004456  0.005076   \nresidential            0.146390  0.138217  0.204008  0.096688  0.153560   \npopulation             0.000000  0.000000  0.000000  0.000000  0.000000   \nland_area              0.000000  0.000000  0.000000  0.000000  0.000000   \npopulation_density     0.000000  0.000000  0.000000  0.000000  0.000000   \nlabor_force            0.000000  0.000000  0.000000  0.000000  0.000000   \nemployed               0.000000  0.000000  0.000000  0.000000  0.000000   \nunemployed             0.000000  0.000000  0.000000  0.000000  0.000000   \nunemployment_rate      0.000000  0.000000  0.000000  0.000000  0.000000   \nsome_college           0.000000  0.000000  0.000000  0.000000  0.000000   \nbachelor_or_higher     0.000000  0.000000  0.000000  0.000000  0.000000   \nhigh_school            0.000000  0.000000  0.000000  0.000000  0.000000   \nless_than_high_school  0.000000  0.000000  0.000000  0.000000  0.000000   \npoverty_rate           0.000000  0.000000  0.000000  0.000000  0.000000   \ndaily_cases_100k       0.000000  0.000000  0.000000  0.000000  0.000000   \ndaily_deaths_100k      0.000000  0.000000  0.000000  0.000000  0.000000   \nparty_DEMOCRAT         0.000000  0.000000  0.000000  0.000000  0.000000   \nln_cases               0.006708  0.006461  0.010669  0.000248  0.005933   \nln_deaths              0.009926  0.006594  0.001710       NaN  0.003699   \nYear_week              0.000000  0.000000  0.000000  0.000000  0.000000   \n\n                             pa        sa  \ndate                   0.000000  0.000000  \ncounty                 0.000000  0.000000  \nstate                  0.000000  0.000000  \nfips                   0.000000  0.000000  \ncases                  0.000000  0.000000  \ndeaths                 0.000000  0.000000  \ndaily_cases            0.000000  0.000000  \ndaily_deaths           0.000000  0.000000  \nretail_and_recreation  0.117754  0.296080  \ngrocery_and_pharmacy   0.147820  0.254591  \nparks                  0.682576  0.679013  \ntransit_stations       0.483237  0.495670  \nworkplaces             0.009545  0.005923  \nresidential            0.127748  0.272814  \npopulation             0.000000  0.000000  \nland_area              0.000000  0.000000  \npopulation_density     0.000000  0.000000  \nlabor_force            0.000000  0.000000  \nemployed               0.000000  0.000000  \nunemployed             0.000000  0.000000  \nunemployment_rate      0.000000  0.000000  \nsome_college           0.000000  0.000000  \nbachelor_or_higher     0.000000  0.000000  \nhigh_school            0.000000  0.000000  \nless_than_high_school  0.000000  0.000000  \npoverty_rate           0.000000  0.000000  \ndaily_cases_100k       0.000000  0.000000  \ndaily_deaths_100k      0.000000  0.000000  \nparty_DEMOCRAT         0.000000  0.000000  \nln_cases               0.006020  0.012632  \nln_deaths              0.002711  0.005043  \nYear_week              0.000000  0.000000  ",
      "text/html": "<div>\n<style scoped>\n    .dataframe tbody tr th:only-of-type {\n        vertical-align: middle;\n    }\n\n    .dataframe tbody tr th {\n        vertical-align: top;\n    }\n\n    .dataframe thead th {\n        text-align: right;\n    }\n</style>\n<table border=\"1\" class=\"dataframe\">\n  <thead>\n    <tr style=\"text-align: right;\">\n      <th></th>\n      <th>ca</th>\n      <th>md</th>\n      <th>me</th>\n      <th>ny</th>\n      <th>oh</th>\n      <th>pa</th>\n      <th>sa</th>\n    </tr>\n  </thead>\n  <tbody>\n    <tr>\n      <th>date</th>\n      <td>0.000000</td>\n      <td>0.000000</td>\n      <td>0.000000</td>\n      <td>0.000000</td>\n      <td>0.000000</td>\n      <td>0.000000</td>\n      <td>0.000000</td>\n    </tr>\n    <tr>\n      <th>county</th>\n      <td>0.000000</td>\n      <td>0.000000</td>\n      <td>0.000000</td>\n      <td>0.000000</td>\n      <td>0.000000</td>\n      <td>0.000000</td>\n      <td>0.000000</td>\n    </tr>\n    <tr>\n      <th>state</th>\n      <td>0.000000</td>\n      <td>0.000000</td>\n      <td>0.000000</td>\n      <td>0.000000</td>\n      <td>0.000000</td>\n      <td>0.000000</td>\n      <td>0.000000</td>\n    </tr>\n    <tr>\n      <th>fips</th>\n      <td>0.000000</td>\n      <td>0.000000</td>\n      <td>0.000000</td>\n      <td>0.000000</td>\n      <td>0.000000</td>\n      <td>0.000000</td>\n      <td>0.000000</td>\n    </tr>\n    <tr>\n      <th>cases</th>\n      <td>0.000000</td>\n      <td>0.000000</td>\n      <td>0.000000</td>\n      <td>0.000000</td>\n      <td>0.000000</td>\n      <td>0.000000</td>\n      <td>0.000000</td>\n    </tr>\n    <tr>\n      <th>deaths</th>\n      <td>0.000000</td>\n      <td>0.000000</td>\n      <td>0.000000</td>\n      <td>0.000000</td>\n      <td>0.000000</td>\n      <td>0.000000</td>\n      <td>0.000000</td>\n    </tr>\n    <tr>\n      <th>daily_cases</th>\n      <td>0.000000</td>\n      <td>0.000000</td>\n      <td>0.000000</td>\n      <td>0.000000</td>\n      <td>0.000000</td>\n      <td>0.000000</td>\n      <td>0.000000</td>\n    </tr>\n    <tr>\n      <th>daily_deaths</th>\n      <td>0.000000</td>\n      <td>0.000000</td>\n      <td>0.000000</td>\n      <td>0.000000</td>\n      <td>0.000000</td>\n      <td>0.000000</td>\n      <td>0.000000</td>\n    </tr>\n    <tr>\n      <th>retail_and_recreation</th>\n      <td>0.063220</td>\n      <td>0.069866</td>\n      <td>0.105458</td>\n      <td>0.076692</td>\n      <td>0.143593</td>\n      <td>0.117754</td>\n      <td>0.296080</td>\n    </tr>\n    <tr>\n      <th>grocery_and_pharmacy</th>\n      <td>0.118056</td>\n      <td>0.173462</td>\n      <td>0.266995</td>\n      <td>0.126569</td>\n      <td>0.220162</td>\n      <td>0.147820</td>\n      <td>0.254591</td>\n    </tr>\n    <tr>\n      <th>parks</th>\n      <td>0.225627</td>\n      <td>0.530856</td>\n      <td>0.766721</td>\n      <td>0.717896</td>\n      <td>0.813797</td>\n      <td>0.682576</td>\n      <td>0.679013</td>\n    </tr>\n    <tr>\n      <th>transit_stations</th>\n      <td>0.239736</td>\n      <td>0.472441</td>\n      <td>0.757078</td>\n      <td>0.545925</td>\n      <td>0.544298</td>\n      <td>0.483237</td>\n      <td>0.495670</td>\n    </tr>\n    <tr>\n      <th>workplaces</th>\n      <td>0.001927</td>\n      <td>0.004500</td>\n      <td>0.006360</td>\n      <td>0.004456</td>\n      <td>0.005076</td>\n      <td>0.009545</td>\n      <td>0.005923</td>\n    </tr>\n    <tr>\n      <th>residential</th>\n      <td>0.146390</td>\n      <td>0.138217</td>\n      <td>0.204008</td>\n      <td>0.096688</td>\n      <td>0.153560</td>\n      <td>0.127748</td>\n      <td>0.272814</td>\n    </tr>\n    <tr>\n      <th>population</th>\n      <td>0.000000</td>\n      <td>0.000000</td>\n      <td>0.000000</td>\n      <td>0.000000</td>\n      <td>0.000000</td>\n      <td>0.000000</td>\n      <td>0.000000</td>\n    </tr>\n    <tr>\n      <th>land_area</th>\n      <td>0.000000</td>\n      <td>0.000000</td>\n      <td>0.000000</td>\n      <td>0.000000</td>\n      <td>0.000000</td>\n      <td>0.000000</td>\n      <td>0.000000</td>\n    </tr>\n    <tr>\n      <th>population_density</th>\n      <td>0.000000</td>\n      <td>0.000000</td>\n      <td>0.000000</td>\n      <td>0.000000</td>\n      <td>0.000000</td>\n      <td>0.000000</td>\n      <td>0.000000</td>\n    </tr>\n    <tr>\n      <th>labor_force</th>\n      <td>0.000000</td>\n      <td>0.000000</td>\n      <td>0.000000</td>\n      <td>0.000000</td>\n      <td>0.000000</td>\n      <td>0.000000</td>\n      <td>0.000000</td>\n    </tr>\n    <tr>\n      <th>employed</th>\n      <td>0.000000</td>\n      <td>0.000000</td>\n      <td>0.000000</td>\n      <td>0.000000</td>\n      <td>0.000000</td>\n      <td>0.000000</td>\n      <td>0.000000</td>\n    </tr>\n    <tr>\n      <th>unemployed</th>\n      <td>0.000000</td>\n      <td>0.000000</td>\n      <td>0.000000</td>\n      <td>0.000000</td>\n      <td>0.000000</td>\n      <td>0.000000</td>\n      <td>0.000000</td>\n    </tr>\n    <tr>\n      <th>unemployment_rate</th>\n      <td>0.000000</td>\n      <td>0.000000</td>\n      <td>0.000000</td>\n      <td>0.000000</td>\n      <td>0.000000</td>\n      <td>0.000000</td>\n      <td>0.000000</td>\n    </tr>\n    <tr>\n      <th>some_college</th>\n      <td>0.000000</td>\n      <td>0.000000</td>\n      <td>0.000000</td>\n      <td>0.000000</td>\n      <td>0.000000</td>\n      <td>0.000000</td>\n      <td>0.000000</td>\n    </tr>\n    <tr>\n      <th>bachelor_or_higher</th>\n      <td>0.000000</td>\n      <td>0.000000</td>\n      <td>0.000000</td>\n      <td>0.000000</td>\n      <td>0.000000</td>\n      <td>0.000000</td>\n      <td>0.000000</td>\n    </tr>\n    <tr>\n      <th>high_school</th>\n      <td>0.000000</td>\n      <td>0.000000</td>\n      <td>0.000000</td>\n      <td>0.000000</td>\n      <td>0.000000</td>\n      <td>0.000000</td>\n      <td>0.000000</td>\n    </tr>\n    <tr>\n      <th>less_than_high_school</th>\n      <td>0.000000</td>\n      <td>0.000000</td>\n      <td>0.000000</td>\n      <td>0.000000</td>\n      <td>0.000000</td>\n      <td>0.000000</td>\n      <td>0.000000</td>\n    </tr>\n    <tr>\n      <th>poverty_rate</th>\n      <td>0.000000</td>\n      <td>0.000000</td>\n      <td>0.000000</td>\n      <td>0.000000</td>\n      <td>0.000000</td>\n      <td>0.000000</td>\n      <td>0.000000</td>\n    </tr>\n    <tr>\n      <th>daily_cases_100k</th>\n      <td>0.000000</td>\n      <td>0.000000</td>\n      <td>0.000000</td>\n      <td>0.000000</td>\n      <td>0.000000</td>\n      <td>0.000000</td>\n      <td>0.000000</td>\n    </tr>\n    <tr>\n      <th>daily_deaths_100k</th>\n      <td>0.000000</td>\n      <td>0.000000</td>\n      <td>0.000000</td>\n      <td>0.000000</td>\n      <td>0.000000</td>\n      <td>0.000000</td>\n      <td>0.000000</td>\n    </tr>\n    <tr>\n      <th>party_DEMOCRAT</th>\n      <td>0.000000</td>\n      <td>0.000000</td>\n      <td>0.000000</td>\n      <td>0.000000</td>\n      <td>0.000000</td>\n      <td>0.000000</td>\n      <td>0.000000</td>\n    </tr>\n    <tr>\n      <th>ln_cases</th>\n      <td>0.006708</td>\n      <td>0.006461</td>\n      <td>0.010669</td>\n      <td>0.000248</td>\n      <td>0.005933</td>\n      <td>0.006020</td>\n      <td>0.012632</td>\n    </tr>\n    <tr>\n      <th>ln_deaths</th>\n      <td>0.009926</td>\n      <td>0.006594</td>\n      <td>0.001710</td>\n      <td>NaN</td>\n      <td>0.003699</td>\n      <td>0.002711</td>\n      <td>0.005043</td>\n    </tr>\n    <tr>\n      <th>Year_week</th>\n      <td>0.000000</td>\n      <td>0.000000</td>\n      <td>0.000000</td>\n      <td>0.000000</td>\n      <td>0.000000</td>\n      <td>0.000000</td>\n      <td>0.000000</td>\n    </tr>\n  </tbody>\n</table>\n</div>"
     },
     "execution_count": 32,
     "metadata": {},
     "output_type": "execute_result"
    }
   ],
   "source": [
    "ca_missing = ca.isnull().sum() / len(ca)\n",
    "md_missing = md.isnull().sum() / len(md)\n",
    "me_missing = me.isnull().sum() / len(me)\n",
    "ny_missing = ny.isnull().sum() / len(ny)\n",
    "oh_missing = oh.isnull().sum() / len(oh)\n",
    "pa_missing = pa.isnull().sum() / len(pa)\n",
    "sa_missing = sa.isnull().sum() / len(sa)\n",
    "missings = pd.concat([ca_missing, md_missing, me_missing, ny_missing, oh_missing, pa_missing, sa_missing], axis=1)\n",
    "missings.columns = ['ca', 'md', 'me', 'ny', 'oh', 'pa', 'sa']\n",
    "missings"
   ]
  },
  {
   "cell_type": "code",
   "execution_count": 33,
   "metadata": {
    "ExecuteTime": {
     "start_time": "2023-05-17T22:41:04.305536Z",
     "end_time": "2023-05-17T22:41:04.330069Z"
    }
   },
   "outputs": [
    {
     "data": {
      "text/plain": "            date       county     state   fips   cases  deaths  daily_cases  \\\n0     2020-03-04  Westchester  New York  36119       9     0.0          9.0   \n1     2020-03-05       Nassau  New York  36059       1     0.0          1.0   \n2     2020-03-05  Westchester  New York  36119      17     0.0          8.0   \n3     2020-03-06       Nassau  New York  36059       4     0.0          3.0   \n4     2020-03-06     Rockland  New York  36087       2     0.0          2.0   \n...          ...          ...       ...    ...     ...     ...          ...   \n52504 2022-10-15   Washington  New York  36115   14751   128.0         15.0   \n52505 2022-10-15        Wayne  New York  36117   20591   197.0         21.0   \n52506 2022-10-15  Westchester  New York  36119  308361  2844.0        186.0   \n52507 2022-10-15      Wyoming  New York  36121    9501    88.0          8.0   \n52508 2022-10-15        Yates  New York  36123    4196    40.0          7.0   \n\n       daily_deaths  retail_and_recreation  grocery_and_pharmacy  ...  \\\n0               0.0                    7.0                   6.0  ...   \n1               0.0                    5.0                   7.0  ...   \n2               0.0                    6.0                   6.0  ...   \n3               0.0                   -1.0                   4.0  ...   \n4               0.0                   -2.0                   3.0  ...   \n...             ...                    ...                   ...  ...   \n52504           0.0                   21.0                  17.0  ...   \n52505           0.0                   15.0                   1.0  ...   \n52506           0.0                  -10.0                  -3.0  ...   \n52507           0.0                   38.0                   NaN  ...   \n52508           0.0                    NaN                   NaN  ...   \n\n       some_college  bachelor_or_higher  high_school  less_than_high_school  \\\n0         19.767242           50.649474    18.434973              11.148311   \n1         22.421977           47.481852    21.799113               8.297058   \n2         19.767242           50.649474    18.434973              11.148311   \n3         22.421977           47.481852    21.799113               8.297058   \n4         24.770103           41.964469    22.121321              11.144107   \n...             ...                 ...          ...                    ...   \n52504     29.075027           20.587974    39.012061              11.324938   \n52505     33.376923           24.438462    32.521538               9.663077   \n52506     19.767242           50.649474    18.434973              11.148311   \n52507     32.509120           18.109039    37.788812              11.593028   \n52508     27.317221           24.471299    34.398792              13.812689   \n\n       poverty_rate  daily_cases_100k  daily_deaths_100k  party_DEMOCRAT  \\\n0               7.6          0.921757                0.0               1   \n1               5.7          0.073456                0.0               1   \n2               7.6          0.819340                0.0               1   \n3               5.7          0.220369                0.0               1   \n4              14.4          0.613427                0.0               1   \n...             ...               ...                ...             ...   \n52504          11.2         24.104130                0.0               1   \n52505           9.7         22.964372                0.0               1   \n52506           7.6         19.049648                0.0               1   \n52507           9.6         19.506010                0.0               1   \n52508          12.9         27.946343                0.0               1   \n\n       ln_cases  Year_week  \n0     -0.081473    2020-09  \n1     -2.611062    2020-09  \n2     -0.199257    2020-09  \n3     -1.512450    2020-09  \n4     -0.488694    2020-09  \n...         ...        ...  \n52504  3.182383    2022-41  \n52505  3.133944    2022-41  \n52506  2.947049    2022-41  \n52507  2.970723    2022-41  \n52508  3.330286    2022-41  \n\n[52509 rows x 31 columns]",
      "text/html": "<div>\n<style scoped>\n    .dataframe tbody tr th:only-of-type {\n        vertical-align: middle;\n    }\n\n    .dataframe tbody tr th {\n        vertical-align: top;\n    }\n\n    .dataframe thead th {\n        text-align: right;\n    }\n</style>\n<table border=\"1\" class=\"dataframe\">\n  <thead>\n    <tr style=\"text-align: right;\">\n      <th></th>\n      <th>date</th>\n      <th>county</th>\n      <th>state</th>\n      <th>fips</th>\n      <th>cases</th>\n      <th>deaths</th>\n      <th>daily_cases</th>\n      <th>daily_deaths</th>\n      <th>retail_and_recreation</th>\n      <th>grocery_and_pharmacy</th>\n      <th>...</th>\n      <th>some_college</th>\n      <th>bachelor_or_higher</th>\n      <th>high_school</th>\n      <th>less_than_high_school</th>\n      <th>poverty_rate</th>\n      <th>daily_cases_100k</th>\n      <th>daily_deaths_100k</th>\n      <th>party_DEMOCRAT</th>\n      <th>ln_cases</th>\n      <th>Year_week</th>\n    </tr>\n  </thead>\n  <tbody>\n    <tr>\n      <th>0</th>\n      <td>2020-03-04</td>\n      <td>Westchester</td>\n      <td>New York</td>\n      <td>36119</td>\n      <td>9</td>\n      <td>0.0</td>\n      <td>9.0</td>\n      <td>0.0</td>\n      <td>7.0</td>\n      <td>6.0</td>\n      <td>...</td>\n      <td>19.767242</td>\n      <td>50.649474</td>\n      <td>18.434973</td>\n      <td>11.148311</td>\n      <td>7.6</td>\n      <td>0.921757</td>\n      <td>0.0</td>\n      <td>1</td>\n      <td>-0.081473</td>\n      <td>2020-09</td>\n    </tr>\n    <tr>\n      <th>1</th>\n      <td>2020-03-05</td>\n      <td>Nassau</td>\n      <td>New York</td>\n      <td>36059</td>\n      <td>1</td>\n      <td>0.0</td>\n      <td>1.0</td>\n      <td>0.0</td>\n      <td>5.0</td>\n      <td>7.0</td>\n      <td>...</td>\n      <td>22.421977</td>\n      <td>47.481852</td>\n      <td>21.799113</td>\n      <td>8.297058</td>\n      <td>5.7</td>\n      <td>0.073456</td>\n      <td>0.0</td>\n      <td>1</td>\n      <td>-2.611062</td>\n      <td>2020-09</td>\n    </tr>\n    <tr>\n      <th>2</th>\n      <td>2020-03-05</td>\n      <td>Westchester</td>\n      <td>New York</td>\n      <td>36119</td>\n      <td>17</td>\n      <td>0.0</td>\n      <td>8.0</td>\n      <td>0.0</td>\n      <td>6.0</td>\n      <td>6.0</td>\n      <td>...</td>\n      <td>19.767242</td>\n      <td>50.649474</td>\n      <td>18.434973</td>\n      <td>11.148311</td>\n      <td>7.6</td>\n      <td>0.819340</td>\n      <td>0.0</td>\n      <td>1</td>\n      <td>-0.199257</td>\n      <td>2020-09</td>\n    </tr>\n    <tr>\n      <th>3</th>\n      <td>2020-03-06</td>\n      <td>Nassau</td>\n      <td>New York</td>\n      <td>36059</td>\n      <td>4</td>\n      <td>0.0</td>\n      <td>3.0</td>\n      <td>0.0</td>\n      <td>-1.0</td>\n      <td>4.0</td>\n      <td>...</td>\n      <td>22.421977</td>\n      <td>47.481852</td>\n      <td>21.799113</td>\n      <td>8.297058</td>\n      <td>5.7</td>\n      <td>0.220369</td>\n      <td>0.0</td>\n      <td>1</td>\n      <td>-1.512450</td>\n      <td>2020-09</td>\n    </tr>\n    <tr>\n      <th>4</th>\n      <td>2020-03-06</td>\n      <td>Rockland</td>\n      <td>New York</td>\n      <td>36087</td>\n      <td>2</td>\n      <td>0.0</td>\n      <td>2.0</td>\n      <td>0.0</td>\n      <td>-2.0</td>\n      <td>3.0</td>\n      <td>...</td>\n      <td>24.770103</td>\n      <td>41.964469</td>\n      <td>22.121321</td>\n      <td>11.144107</td>\n      <td>14.4</td>\n      <td>0.613427</td>\n      <td>0.0</td>\n      <td>1</td>\n      <td>-0.488694</td>\n      <td>2020-09</td>\n    </tr>\n    <tr>\n      <th>...</th>\n      <td>...</td>\n      <td>...</td>\n      <td>...</td>\n      <td>...</td>\n      <td>...</td>\n      <td>...</td>\n      <td>...</td>\n      <td>...</td>\n      <td>...</td>\n      <td>...</td>\n      <td>...</td>\n      <td>...</td>\n      <td>...</td>\n      <td>...</td>\n      <td>...</td>\n      <td>...</td>\n      <td>...</td>\n      <td>...</td>\n      <td>...</td>\n      <td>...</td>\n      <td>...</td>\n    </tr>\n    <tr>\n      <th>52504</th>\n      <td>2022-10-15</td>\n      <td>Washington</td>\n      <td>New York</td>\n      <td>36115</td>\n      <td>14751</td>\n      <td>128.0</td>\n      <td>15.0</td>\n      <td>0.0</td>\n      <td>21.0</td>\n      <td>17.0</td>\n      <td>...</td>\n      <td>29.075027</td>\n      <td>20.587974</td>\n      <td>39.012061</td>\n      <td>11.324938</td>\n      <td>11.2</td>\n      <td>24.104130</td>\n      <td>0.0</td>\n      <td>1</td>\n      <td>3.182383</td>\n      <td>2022-41</td>\n    </tr>\n    <tr>\n      <th>52505</th>\n      <td>2022-10-15</td>\n      <td>Wayne</td>\n      <td>New York</td>\n      <td>36117</td>\n      <td>20591</td>\n      <td>197.0</td>\n      <td>21.0</td>\n      <td>0.0</td>\n      <td>15.0</td>\n      <td>1.0</td>\n      <td>...</td>\n      <td>33.376923</td>\n      <td>24.438462</td>\n      <td>32.521538</td>\n      <td>9.663077</td>\n      <td>9.7</td>\n      <td>22.964372</td>\n      <td>0.0</td>\n      <td>1</td>\n      <td>3.133944</td>\n      <td>2022-41</td>\n    </tr>\n    <tr>\n      <th>52506</th>\n      <td>2022-10-15</td>\n      <td>Westchester</td>\n      <td>New York</td>\n      <td>36119</td>\n      <td>308361</td>\n      <td>2844.0</td>\n      <td>186.0</td>\n      <td>0.0</td>\n      <td>-10.0</td>\n      <td>-3.0</td>\n      <td>...</td>\n      <td>19.767242</td>\n      <td>50.649474</td>\n      <td>18.434973</td>\n      <td>11.148311</td>\n      <td>7.6</td>\n      <td>19.049648</td>\n      <td>0.0</td>\n      <td>1</td>\n      <td>2.947049</td>\n      <td>2022-41</td>\n    </tr>\n    <tr>\n      <th>52507</th>\n      <td>2022-10-15</td>\n      <td>Wyoming</td>\n      <td>New York</td>\n      <td>36121</td>\n      <td>9501</td>\n      <td>88.0</td>\n      <td>8.0</td>\n      <td>0.0</td>\n      <td>38.0</td>\n      <td>NaN</td>\n      <td>...</td>\n      <td>32.509120</td>\n      <td>18.109039</td>\n      <td>37.788812</td>\n      <td>11.593028</td>\n      <td>9.6</td>\n      <td>19.506010</td>\n      <td>0.0</td>\n      <td>1</td>\n      <td>2.970723</td>\n      <td>2022-41</td>\n    </tr>\n    <tr>\n      <th>52508</th>\n      <td>2022-10-15</td>\n      <td>Yates</td>\n      <td>New York</td>\n      <td>36123</td>\n      <td>4196</td>\n      <td>40.0</td>\n      <td>7.0</td>\n      <td>0.0</td>\n      <td>NaN</td>\n      <td>NaN</td>\n      <td>...</td>\n      <td>27.317221</td>\n      <td>24.471299</td>\n      <td>34.398792</td>\n      <td>13.812689</td>\n      <td>12.9</td>\n      <td>27.946343</td>\n      <td>0.0</td>\n      <td>1</td>\n      <td>3.330286</td>\n      <td>2022-41</td>\n    </tr>\n  </tbody>\n</table>\n<p>52509 rows × 31 columns</p>\n</div>"
     },
     "execution_count": 33,
     "metadata": {},
     "output_type": "execute_result"
    }
   ],
   "source": [
    "ny"
   ]
  },
  {
   "cell_type": "code",
   "execution_count": 34,
   "metadata": {
    "ExecuteTime": {
     "start_time": "2023-05-17T22:41:04.327123Z",
     "end_time": "2023-05-17T22:41:04.381274Z"
    }
   },
   "outputs": [],
   "source": [
    "ny_week = ny.groupby(['Year_week', 'fips']).mean().reset_index()\n",
    "ny_week['ln_cases_lag'] = ny.groupby(['Year_week', 'fips'])['ln_cases'].shift(1)\n",
    "ny_week['transit_stations_lag'] = ny.groupby(['Year_week', 'fips'])['transit_stations'].shift(1)\n",
    "ny_week['parks_lag'] = ny.groupby(['Year_week', 'fips'])['parks'].shift(1)\n",
    "ny_week['residential_lag'] = ny.groupby(['Year_week', 'fips'])['residential'].shift(1)\n",
    "ny_week['retail_and_recreation_lag'] = ny.groupby(['Year_week', 'fips'])['retail_and_recreation'].shift(1)\n",
    "ny_week['workplaces_lag'] = ny.groupby(['Year_week', 'fips'])['workplaces'].shift(1)"
   ]
  },
  {
   "cell_type": "code",
   "execution_count": 35,
   "metadata": {
    "ExecuteTime": {
     "start_time": "2023-05-17T22:41:04.360278Z",
     "end_time": "2023-05-17T22:41:04.381569Z"
    }
   },
   "outputs": [],
   "source": [
    "# Perform linear regression of U_t on a constant term and U_{t-1}\n",
    "X2 = ny_week[['ln_cases_lag']].dropna()\n",
    "X2 = sm.add_constant(X2)  # Add a constant term to the model\n",
    "y2 = ny_week.loc[X2.index, 'ln_cases']\n",
    "\n",
    "model2 = sm.OLS(y2, X2).fit()"
   ]
  },
  {
   "cell_type": "code",
   "execution_count": 36,
   "metadata": {
    "ExecuteTime": {
     "start_time": "2023-05-17T22:41:04.372331Z",
     "end_time": "2023-05-17T22:41:04.410529Z"
    }
   },
   "outputs": [
    {
     "data": {
      "text/plain": "<class 'statsmodels.iolib.summary.Summary'>\n\"\"\"\n                            OLS Regression Results                            \n==============================================================================\nDep. Variable:               ln_cases   R-squared:                       0.010\nModel:                            OLS   Adj. R-squared:                  0.010\nMethod:                 Least Squares   F-statistic:                     65.89\nDate:                Wed, 17 May 2023   Prob (F-statistic):           5.66e-16\nTime:                        22:41:04   Log-Likelihood:                -11163.\nNo. Observations:                6531   AIC:                         2.233e+04\nDf Residuals:                    6529   BIC:                         2.234e+04\nDf Model:                           1                                         \nCovariance Type:            nonrobust                                         \n================================================================================\n                   coef    std err          t      P>|t|      [0.025      0.975]\n--------------------------------------------------------------------------------\nconst            2.5938      0.022    120.201      0.000       2.551       2.636\nln_cases_lag    -0.1274      0.016     -8.117      0.000      -0.158      -0.097\n==============================================================================\nOmnibus:                      648.498   Durbin-Watson:                   0.316\nProb(Omnibus):                  0.000   Jarque-Bera (JB):              235.193\nSkew:                          -0.222   Prob(JB):                     8.48e-52\nKurtosis:                       2.184   Cond. No.                         2.31\n==============================================================================\n\nNotes:\n[1] Standard Errors assume that the covariance matrix of the errors is correctly specified.\n\"\"\"",
      "text/html": "<table class=\"simpletable\">\n<caption>OLS Regression Results</caption>\n<tr>\n  <th>Dep. Variable:</th>        <td>ln_cases</td>     <th>  R-squared:         </th> <td>   0.010</td> \n</tr>\n<tr>\n  <th>Model:</th>                   <td>OLS</td>       <th>  Adj. R-squared:    </th> <td>   0.010</td> \n</tr>\n<tr>\n  <th>Method:</th>             <td>Least Squares</td>  <th>  F-statistic:       </th> <td>   65.89</td> \n</tr>\n<tr>\n  <th>Date:</th>             <td>Wed, 17 May 2023</td> <th>  Prob (F-statistic):</th> <td>5.66e-16</td> \n</tr>\n<tr>\n  <th>Time:</th>                 <td>22:41:04</td>     <th>  Log-Likelihood:    </th> <td> -11163.</td> \n</tr>\n<tr>\n  <th>No. Observations:</th>      <td>  6531</td>      <th>  AIC:               </th> <td>2.233e+04</td>\n</tr>\n<tr>\n  <th>Df Residuals:</th>          <td>  6529</td>      <th>  BIC:               </th> <td>2.234e+04</td>\n</tr>\n<tr>\n  <th>Df Model:</th>              <td>     1</td>      <th>                     </th>     <td> </td>    \n</tr>\n<tr>\n  <th>Covariance Type:</th>      <td>nonrobust</td>    <th>                     </th>     <td> </td>    \n</tr>\n</table>\n<table class=\"simpletable\">\n<tr>\n        <td></td>          <th>coef</th>     <th>std err</th>      <th>t</th>      <th>P>|t|</th>  <th>[0.025</th>    <th>0.975]</th>  \n</tr>\n<tr>\n  <th>const</th>        <td>    2.5938</td> <td>    0.022</td> <td>  120.201</td> <td> 0.000</td> <td>    2.551</td> <td>    2.636</td>\n</tr>\n<tr>\n  <th>ln_cases_lag</th> <td>   -0.1274</td> <td>    0.016</td> <td>   -8.117</td> <td> 0.000</td> <td>   -0.158</td> <td>   -0.097</td>\n</tr>\n</table>\n<table class=\"simpletable\">\n<tr>\n  <th>Omnibus:</th>       <td>648.498</td> <th>  Durbin-Watson:     </th> <td>   0.316</td>\n</tr>\n<tr>\n  <th>Prob(Omnibus):</th> <td> 0.000</td>  <th>  Jarque-Bera (JB):  </th> <td> 235.193</td>\n</tr>\n<tr>\n  <th>Skew:</th>          <td>-0.222</td>  <th>  Prob(JB):          </th> <td>8.48e-52</td>\n</tr>\n<tr>\n  <th>Kurtosis:</th>      <td> 2.184</td>  <th>  Cond. No.          </th> <td>    2.31</td>\n</tr>\n</table><br/><br/>Notes:<br/>[1] Standard Errors assume that the covariance matrix of the errors is correctly specified."
     },
     "execution_count": 36,
     "metadata": {},
     "output_type": "execute_result"
    }
   ],
   "source": [
    "model2.summary()"
   ]
  },
  {
   "cell_type": "code",
   "execution_count": 37,
   "metadata": {
    "ExecuteTime": {
     "start_time": "2023-05-17T22:41:04.385133Z",
     "end_time": "2023-05-17T22:41:04.431181Z"
    }
   },
   "outputs": [
    {
     "data": {
      "text/plain": "     Year_week   fips          cases       deaths  daily_cases  daily_deaths  \\\n0      2020-09  36059       3.000000     0.000000     1.333333      0.000000   \n1      2020-09  36087       2.000000     0.000000     1.000000      0.000000   \n2      2020-09  36091       2.000000     0.000000     2.000000      0.000000   \n3      2020-09  36119      32.000000     0.000000    17.250000      0.000000   \n4      2020-10  36001       3.000000     0.000000     1.666667      0.000000   \n...        ...    ...            ...          ...          ...           ...   \n7659   2022-41  36115   14711.285714   128.000000    13.142857      0.000000   \n7660   2022-41  36117   20532.285714   196.571429    17.857143      0.142857   \n7661   2022-41  36119  307791.571429  2840.857143   179.714286      1.000000   \n7662   2022-41  36121    9479.571429    88.000000     7.000000      0.000000   \n7663   2022-41  36123    4181.714286    40.000000     4.000000      0.000000   \n\n      retail_and_recreation  grocery_and_pharmacy      parks  \\\n0                  3.333333              6.333333  15.333333   \n1                  1.500000              5.500000  34.000000   \n2                 13.000000             10.000000  24.000000   \n3                  3.000000              2.250000  20.500000   \n4                 -6.666667             28.000000  23.000000   \n...                     ...                   ...        ...   \n7659              15.142857             17.857143        NaN   \n7660              10.285714             -0.714286        NaN   \n7661             -11.857143             -2.285714  43.428571   \n7662              35.250000                   NaN        NaN   \n7663                    NaN             29.333333        NaN   \n\n      transit_stations  ...  daily_cases_100k  daily_deaths_100k  \\\n0            -5.000000  ...          0.097942           0.000000   \n1             2.500000  ...          0.306714           0.000000   \n2            18.000000  ...          0.883982           0.000000   \n3            -1.500000  ...          1.766701           0.000000   \n4            -8.000000  ...          0.538710           0.000000   \n...                ...  ...               ...                ...   \n7659               NaN  ...         21.119809           0.000000   \n7660               NaN  ...         19.527528           0.156220   \n7661        -20.285714  ...         18.405881           0.102417   \n7662               NaN  ...         17.067759           0.000000   \n7663               NaN  ...         15.969339           0.000000   \n\n      party_DEMOCRAT  ln_cases  ln_cases_lag  transit_stations_lag  parks_lag  \\\n0                1.0 -1.374504           NaN                   NaN        NaN   \n1                1.0 -0.244347           NaN                   NaN        NaN   \n2                1.0 -0.123319     -0.081473                  -1.0       28.0   \n3                1.0  0.379495     -2.611062                  -2.0       25.0   \n4                1.0 -0.155682           NaN                   NaN        NaN   \n...              ...       ...           ...                   ...        ...   \n7659             1.0  3.028969      1.482138                 -21.0      156.0   \n7660             1.0  2.944390      1.393480                   NaN        NaN   \n7661             1.0  2.896201      1.195601                 -47.0      115.0   \n7662             1.0  2.789507      1.037273                 -23.0      267.0   \n7663             1.0  2.368586      1.235722                   3.0        NaN   \n\n      residential_lag  retail_and_recreation_lag  workplaces_lag  \n0                 NaN                        NaN             NaN  \n1                 NaN                        NaN             NaN  \n2                -1.0                        7.0             2.0  \n3                 0.0                        5.0             4.0  \n4                 NaN                        NaN             NaN  \n...               ...                        ...             ...  \n7659             10.0                      -15.0           -41.0  \n7660              6.0                      -11.0           -32.0  \n7661             14.0                      -17.0           -43.0  \n7662              7.0                       -8.0           -35.0  \n7663              7.0                      -16.0           -35.0  \n\n[7664 rows x 34 columns]",
      "text/html": "<div>\n<style scoped>\n    .dataframe tbody tr th:only-of-type {\n        vertical-align: middle;\n    }\n\n    .dataframe tbody tr th {\n        vertical-align: top;\n    }\n\n    .dataframe thead th {\n        text-align: right;\n    }\n</style>\n<table border=\"1\" class=\"dataframe\">\n  <thead>\n    <tr style=\"text-align: right;\">\n      <th></th>\n      <th>Year_week</th>\n      <th>fips</th>\n      <th>cases</th>\n      <th>deaths</th>\n      <th>daily_cases</th>\n      <th>daily_deaths</th>\n      <th>retail_and_recreation</th>\n      <th>grocery_and_pharmacy</th>\n      <th>parks</th>\n      <th>transit_stations</th>\n      <th>...</th>\n      <th>daily_cases_100k</th>\n      <th>daily_deaths_100k</th>\n      <th>party_DEMOCRAT</th>\n      <th>ln_cases</th>\n      <th>ln_cases_lag</th>\n      <th>transit_stations_lag</th>\n      <th>parks_lag</th>\n      <th>residential_lag</th>\n      <th>retail_and_recreation_lag</th>\n      <th>workplaces_lag</th>\n    </tr>\n  </thead>\n  <tbody>\n    <tr>\n      <th>0</th>\n      <td>2020-09</td>\n      <td>36059</td>\n      <td>3.000000</td>\n      <td>0.000000</td>\n      <td>1.333333</td>\n      <td>0.000000</td>\n      <td>3.333333</td>\n      <td>6.333333</td>\n      <td>15.333333</td>\n      <td>-5.000000</td>\n      <td>...</td>\n      <td>0.097942</td>\n      <td>0.000000</td>\n      <td>1.0</td>\n      <td>-1.374504</td>\n      <td>NaN</td>\n      <td>NaN</td>\n      <td>NaN</td>\n      <td>NaN</td>\n      <td>NaN</td>\n      <td>NaN</td>\n    </tr>\n    <tr>\n      <th>1</th>\n      <td>2020-09</td>\n      <td>36087</td>\n      <td>2.000000</td>\n      <td>0.000000</td>\n      <td>1.000000</td>\n      <td>0.000000</td>\n      <td>1.500000</td>\n      <td>5.500000</td>\n      <td>34.000000</td>\n      <td>2.500000</td>\n      <td>...</td>\n      <td>0.306714</td>\n      <td>0.000000</td>\n      <td>1.0</td>\n      <td>-0.244347</td>\n      <td>NaN</td>\n      <td>NaN</td>\n      <td>NaN</td>\n      <td>NaN</td>\n      <td>NaN</td>\n      <td>NaN</td>\n    </tr>\n    <tr>\n      <th>2</th>\n      <td>2020-09</td>\n      <td>36091</td>\n      <td>2.000000</td>\n      <td>0.000000</td>\n      <td>2.000000</td>\n      <td>0.000000</td>\n      <td>13.000000</td>\n      <td>10.000000</td>\n      <td>24.000000</td>\n      <td>18.000000</td>\n      <td>...</td>\n      <td>0.883982</td>\n      <td>0.000000</td>\n      <td>1.0</td>\n      <td>-0.123319</td>\n      <td>-0.081473</td>\n      <td>-1.0</td>\n      <td>28.0</td>\n      <td>-1.0</td>\n      <td>7.0</td>\n      <td>2.0</td>\n    </tr>\n    <tr>\n      <th>3</th>\n      <td>2020-09</td>\n      <td>36119</td>\n      <td>32.000000</td>\n      <td>0.000000</td>\n      <td>17.250000</td>\n      <td>0.000000</td>\n      <td>3.000000</td>\n      <td>2.250000</td>\n      <td>20.500000</td>\n      <td>-1.500000</td>\n      <td>...</td>\n      <td>1.766701</td>\n      <td>0.000000</td>\n      <td>1.0</td>\n      <td>0.379495</td>\n      <td>-2.611062</td>\n      <td>-2.0</td>\n      <td>25.0</td>\n      <td>0.0</td>\n      <td>5.0</td>\n      <td>4.0</td>\n    </tr>\n    <tr>\n      <th>4</th>\n      <td>2020-10</td>\n      <td>36001</td>\n      <td>3.000000</td>\n      <td>0.000000</td>\n      <td>1.666667</td>\n      <td>0.000000</td>\n      <td>-6.666667</td>\n      <td>28.000000</td>\n      <td>23.000000</td>\n      <td>-8.000000</td>\n      <td>...</td>\n      <td>0.538710</td>\n      <td>0.000000</td>\n      <td>1.0</td>\n      <td>-0.155682</td>\n      <td>NaN</td>\n      <td>NaN</td>\n      <td>NaN</td>\n      <td>NaN</td>\n      <td>NaN</td>\n      <td>NaN</td>\n    </tr>\n    <tr>\n      <th>...</th>\n      <td>...</td>\n      <td>...</td>\n      <td>...</td>\n      <td>...</td>\n      <td>...</td>\n      <td>...</td>\n      <td>...</td>\n      <td>...</td>\n      <td>...</td>\n      <td>...</td>\n      <td>...</td>\n      <td>...</td>\n      <td>...</td>\n      <td>...</td>\n      <td>...</td>\n      <td>...</td>\n      <td>...</td>\n      <td>...</td>\n      <td>...</td>\n      <td>...</td>\n      <td>...</td>\n    </tr>\n    <tr>\n      <th>7659</th>\n      <td>2022-41</td>\n      <td>36115</td>\n      <td>14711.285714</td>\n      <td>128.000000</td>\n      <td>13.142857</td>\n      <td>0.000000</td>\n      <td>15.142857</td>\n      <td>17.857143</td>\n      <td>NaN</td>\n      <td>NaN</td>\n      <td>...</td>\n      <td>21.119809</td>\n      <td>0.000000</td>\n      <td>1.0</td>\n      <td>3.028969</td>\n      <td>1.482138</td>\n      <td>-21.0</td>\n      <td>156.0</td>\n      <td>10.0</td>\n      <td>-15.0</td>\n      <td>-41.0</td>\n    </tr>\n    <tr>\n      <th>7660</th>\n      <td>2022-41</td>\n      <td>36117</td>\n      <td>20532.285714</td>\n      <td>196.571429</td>\n      <td>17.857143</td>\n      <td>0.142857</td>\n      <td>10.285714</td>\n      <td>-0.714286</td>\n      <td>NaN</td>\n      <td>NaN</td>\n      <td>...</td>\n      <td>19.527528</td>\n      <td>0.156220</td>\n      <td>1.0</td>\n      <td>2.944390</td>\n      <td>1.393480</td>\n      <td>NaN</td>\n      <td>NaN</td>\n      <td>6.0</td>\n      <td>-11.0</td>\n      <td>-32.0</td>\n    </tr>\n    <tr>\n      <th>7661</th>\n      <td>2022-41</td>\n      <td>36119</td>\n      <td>307791.571429</td>\n      <td>2840.857143</td>\n      <td>179.714286</td>\n      <td>1.000000</td>\n      <td>-11.857143</td>\n      <td>-2.285714</td>\n      <td>43.428571</td>\n      <td>-20.285714</td>\n      <td>...</td>\n      <td>18.405881</td>\n      <td>0.102417</td>\n      <td>1.0</td>\n      <td>2.896201</td>\n      <td>1.195601</td>\n      <td>-47.0</td>\n      <td>115.0</td>\n      <td>14.0</td>\n      <td>-17.0</td>\n      <td>-43.0</td>\n    </tr>\n    <tr>\n      <th>7662</th>\n      <td>2022-41</td>\n      <td>36121</td>\n      <td>9479.571429</td>\n      <td>88.000000</td>\n      <td>7.000000</td>\n      <td>0.000000</td>\n      <td>35.250000</td>\n      <td>NaN</td>\n      <td>NaN</td>\n      <td>NaN</td>\n      <td>...</td>\n      <td>17.067759</td>\n      <td>0.000000</td>\n      <td>1.0</td>\n      <td>2.789507</td>\n      <td>1.037273</td>\n      <td>-23.0</td>\n      <td>267.0</td>\n      <td>7.0</td>\n      <td>-8.0</td>\n      <td>-35.0</td>\n    </tr>\n    <tr>\n      <th>7663</th>\n      <td>2022-41</td>\n      <td>36123</td>\n      <td>4181.714286</td>\n      <td>40.000000</td>\n      <td>4.000000</td>\n      <td>0.000000</td>\n      <td>NaN</td>\n      <td>29.333333</td>\n      <td>NaN</td>\n      <td>NaN</td>\n      <td>...</td>\n      <td>15.969339</td>\n      <td>0.000000</td>\n      <td>1.0</td>\n      <td>2.368586</td>\n      <td>1.235722</td>\n      <td>3.0</td>\n      <td>NaN</td>\n      <td>7.0</td>\n      <td>-16.0</td>\n      <td>-35.0</td>\n    </tr>\n  </tbody>\n</table>\n<p>7664 rows × 34 columns</p>\n</div>"
     },
     "execution_count": 37,
     "metadata": {},
     "output_type": "execute_result"
    }
   ],
   "source": [
    "ny_week"
   ]
  },
  {
   "cell_type": "code",
   "execution_count": 38,
   "metadata": {
    "ExecuteTime": {
     "start_time": "2023-05-17T22:41:04.398951Z",
     "end_time": "2023-05-17T22:41:04.447414Z"
    }
   },
   "outputs": [
    {
     "data": {
      "text/plain": "<class 'statsmodels.iolib.summary.Summary'>\n\"\"\"\n                            OLS Regression Results                            \n==============================================================================\nDep. Variable:               ln_cases   R-squared:                       0.326\nModel:                            OLS   Adj. R-squared:                  0.322\nMethod:                 Least Squares   F-statistic:                     75.87\nDate:                Wed, 17 May 2023   Prob (F-statistic):          3.14e-139\nTime:                        22:41:04   Log-Likelihood:                -2718.4\nNo. Observations:                1737   AIC:                             5461.\nDf Residuals:                    1725   BIC:                             5526.\nDf Model:                          11                                         \nCovariance Type:            nonrobust                                         \n=============================================================================================\n                                coef    std err          t      P>|t|      [0.025      0.975]\n---------------------------------------------------------------------------------------------\ntransit_stations_lag          0.0061      0.003      2.357      0.019       0.001       0.011\nparks_lag                    -0.0013      0.000     -2.583      0.010      -0.002      -0.000\nresidential_lag               0.0147      0.011      1.289      0.197      -0.008       0.037\nretail_and_recreation_lag    -0.0223      0.003     -7.626      0.000      -0.028      -0.017\nworkplaces_lag                0.0164      0.005      3.248      0.001       0.007       0.026\nunemployment_rate            -0.5194      0.023    -22.848      0.000      -0.564      -0.475\nsome_college                  0.1226      0.011     10.978      0.000       0.101       0.145\nbachelor_or_higher            0.0080      0.004      2.054      0.040       0.000       0.016\nhigh_school                  -0.0091      0.010     -0.890      0.374      -0.029       0.011\nless_than_high_school         0.0855      0.022      3.865      0.000       0.042       0.129\npopulation_density            0.0007   8.07e-05      8.838      0.000       0.001       0.001\npoverty_rate                  0.0432      0.013      3.405      0.001       0.018       0.068\nparty_DEMOCRAT                0.0021      0.000     10.678      0.000       0.002       0.002\n==============================================================================\nOmnibus:                       25.186   Durbin-Watson:                   0.554\nProb(Omnibus):                  0.000   Jarque-Bera (JB):               21.363\nSkew:                           0.206   Prob(JB):                     2.30e-05\nKurtosis:                       2.646   Cond. No.                     5.90e+18\n==============================================================================\n\nNotes:\n[1] Standard Errors assume that the covariance matrix of the errors is correctly specified.\n[2] The smallest eigenvalue is 2.92e-29. This might indicate that there are\nstrong multicollinearity problems or that the design matrix is singular.\n\"\"\"",
      "text/html": "<table class=\"simpletable\">\n<caption>OLS Regression Results</caption>\n<tr>\n  <th>Dep. Variable:</th>        <td>ln_cases</td>     <th>  R-squared:         </th> <td>   0.326</td> \n</tr>\n<tr>\n  <th>Model:</th>                   <td>OLS</td>       <th>  Adj. R-squared:    </th> <td>   0.322</td> \n</tr>\n<tr>\n  <th>Method:</th>             <td>Least Squares</td>  <th>  F-statistic:       </th> <td>   75.87</td> \n</tr>\n<tr>\n  <th>Date:</th>             <td>Wed, 17 May 2023</td> <th>  Prob (F-statistic):</th> <td>3.14e-139</td>\n</tr>\n<tr>\n  <th>Time:</th>                 <td>22:41:04</td>     <th>  Log-Likelihood:    </th> <td> -2718.4</td> \n</tr>\n<tr>\n  <th>No. Observations:</th>      <td>  1737</td>      <th>  AIC:               </th> <td>   5461.</td> \n</tr>\n<tr>\n  <th>Df Residuals:</th>          <td>  1725</td>      <th>  BIC:               </th> <td>   5526.</td> \n</tr>\n<tr>\n  <th>Df Model:</th>              <td>    11</td>      <th>                     </th>     <td> </td>    \n</tr>\n<tr>\n  <th>Covariance Type:</th>      <td>nonrobust</td>    <th>                     </th>     <td> </td>    \n</tr>\n</table>\n<table class=\"simpletable\">\n<tr>\n              <td></td>                 <th>coef</th>     <th>std err</th>      <th>t</th>      <th>P>|t|</th>  <th>[0.025</th>    <th>0.975]</th>  \n</tr>\n<tr>\n  <th>transit_stations_lag</th>      <td>    0.0061</td> <td>    0.003</td> <td>    2.357</td> <td> 0.019</td> <td>    0.001</td> <td>    0.011</td>\n</tr>\n<tr>\n  <th>parks_lag</th>                 <td>   -0.0013</td> <td>    0.000</td> <td>   -2.583</td> <td> 0.010</td> <td>   -0.002</td> <td>   -0.000</td>\n</tr>\n<tr>\n  <th>residential_lag</th>           <td>    0.0147</td> <td>    0.011</td> <td>    1.289</td> <td> 0.197</td> <td>   -0.008</td> <td>    0.037</td>\n</tr>\n<tr>\n  <th>retail_and_recreation_lag</th> <td>   -0.0223</td> <td>    0.003</td> <td>   -7.626</td> <td> 0.000</td> <td>   -0.028</td> <td>   -0.017</td>\n</tr>\n<tr>\n  <th>workplaces_lag</th>            <td>    0.0164</td> <td>    0.005</td> <td>    3.248</td> <td> 0.001</td> <td>    0.007</td> <td>    0.026</td>\n</tr>\n<tr>\n  <th>unemployment_rate</th>         <td>   -0.5194</td> <td>    0.023</td> <td>  -22.848</td> <td> 0.000</td> <td>   -0.564</td> <td>   -0.475</td>\n</tr>\n<tr>\n  <th>some_college</th>              <td>    0.1226</td> <td>    0.011</td> <td>   10.978</td> <td> 0.000</td> <td>    0.101</td> <td>    0.145</td>\n</tr>\n<tr>\n  <th>bachelor_or_higher</th>        <td>    0.0080</td> <td>    0.004</td> <td>    2.054</td> <td> 0.040</td> <td>    0.000</td> <td>    0.016</td>\n</tr>\n<tr>\n  <th>high_school</th>               <td>   -0.0091</td> <td>    0.010</td> <td>   -0.890</td> <td> 0.374</td> <td>   -0.029</td> <td>    0.011</td>\n</tr>\n<tr>\n  <th>less_than_high_school</th>     <td>    0.0855</td> <td>    0.022</td> <td>    3.865</td> <td> 0.000</td> <td>    0.042</td> <td>    0.129</td>\n</tr>\n<tr>\n  <th>population_density</th>        <td>    0.0007</td> <td> 8.07e-05</td> <td>    8.838</td> <td> 0.000</td> <td>    0.001</td> <td>    0.001</td>\n</tr>\n<tr>\n  <th>poverty_rate</th>              <td>    0.0432</td> <td>    0.013</td> <td>    3.405</td> <td> 0.001</td> <td>    0.018</td> <td>    0.068</td>\n</tr>\n<tr>\n  <th>party_DEMOCRAT</th>            <td>    0.0021</td> <td>    0.000</td> <td>   10.678</td> <td> 0.000</td> <td>    0.002</td> <td>    0.002</td>\n</tr>\n</table>\n<table class=\"simpletable\">\n<tr>\n  <th>Omnibus:</th>       <td>25.186</td> <th>  Durbin-Watson:     </th> <td>   0.554</td>\n</tr>\n<tr>\n  <th>Prob(Omnibus):</th> <td> 0.000</td> <th>  Jarque-Bera (JB):  </th> <td>  21.363</td>\n</tr>\n<tr>\n  <th>Skew:</th>          <td> 0.206</td> <th>  Prob(JB):          </th> <td>2.30e-05</td>\n</tr>\n<tr>\n  <th>Kurtosis:</th>      <td> 2.646</td> <th>  Cond. No.          </th> <td>5.90e+18</td>\n</tr>\n</table><br/><br/>Notes:<br/>[1] Standard Errors assume that the covariance matrix of the errors is correctly specified.<br/>[2] The smallest eigenvalue is 2.92e-29. This might indicate that there are<br/>strong multicollinearity problems or that the design matrix is singular."
     },
     "execution_count": 38,
     "metadata": {},
     "output_type": "execute_result"
    }
   ],
   "source": [
    "X3 = ny_week[['transit_stations_lag', 'parks_lag', 'residential_lag', 'retail_and_recreation_lag', 'workplaces_lag',\n",
    "              'unemployment_rate', 'some_college', 'bachelor_or_higher', 'high_school', 'less_than_high_school',\n",
    "              'population_density',\n",
    "              'poverty_rate', 'party_DEMOCRAT']].dropna()\n",
    "X3 = sm.add_constant(X3)  # Add a constant term to the model\n",
    "y3 = ny_week.loc[X3.index, 'ln_cases']\n",
    "model3 = sm.OLS(y3, X3).fit()\n",
    "model3.summary()"
   ]
  },
  {
   "cell_type": "code",
   "execution_count": 39,
   "metadata": {
    "ExecuteTime": {
     "start_time": "2023-05-17T22:41:04.423365Z",
     "end_time": "2023-05-17T22:41:04.528563Z"
    }
   },
   "outputs": [],
   "source": [
    "ca_week = ca.groupby(['Year_week', 'fips']).mean().reset_index()\n",
    "ca_week['ln_cases_lag'] = ca.groupby(['Year_week', 'fips'])['ln_cases'].shift(1)\n",
    "ca_week['transit_stations_lag'] = ca.groupby(['Year_week', 'fips'])['transit_stations'].shift(1)\n",
    "ca_week['parks_lag'] = ca.groupby(['Year_week', 'fips'])['parks'].shift(1)\n",
    "ca_week['residential_lag'] = ca.groupby(['Year_week', 'fips'])['residential'].shift(1)\n",
    "ca_week['retail_and_recreation_lag'] = ca.groupby(['Year_week', 'fips'])['retail_and_recreation'].shift(1)\n",
    "ca_week['workplaces_lag'] = ca.groupby(['Year_week', 'fips'])['workplaces'].shift(1)\n",
    "ca_week.dropna(inplace=True)\n"
   ]
  },
  {
   "cell_type": "code",
   "execution_count": 40,
   "metadata": {
    "ExecuteTime": {
     "start_time": "2023-05-17T22:41:04.477085Z",
     "end_time": "2023-05-17T22:41:04.528813Z"
    }
   },
   "outputs": [
    {
     "data": {
      "text/plain": "<class 'statsmodels.iolib.summary.Summary'>\n\"\"\"\n                            OLS Regression Results                            \n==============================================================================\nDep. Variable:               ln_cases   R-squared:                       0.000\nModel:                            OLS   Adj. R-squared:                 -0.000\nMethod:                 Least Squares   F-statistic:                    0.1280\nDate:                Wed, 17 May 2023   Prob (F-statistic):              0.720\nTime:                        22:41:04   Log-Likelihood:                -5202.5\nNo. Observations:                3306   AIC:                         1.041e+04\nDf Residuals:                    3304   BIC:                         1.042e+04\nDf Model:                           1                                         \nCovariance Type:            nonrobust                                         \n================================================================================\n                   coef    std err          t      P>|t|      [0.025      0.975]\n--------------------------------------------------------------------------------\nconst            1.8627      0.026     72.519      0.000       1.812       1.913\nln_cases_lag    -0.0052      0.015     -0.358      0.720      -0.034       0.023\n==============================================================================\nOmnibus:                       34.917   Durbin-Watson:                   0.410\nProb(Omnibus):                  0.000   Jarque-Bera (JB):               35.862\nSkew:                           0.252   Prob(JB):                     1.63e-08\nKurtosis:                       2.923   Cond. No.                         2.56\n==============================================================================\n\nNotes:\n[1] Standard Errors assume that the covariance matrix of the errors is correctly specified.\n\"\"\"",
      "text/html": "<table class=\"simpletable\">\n<caption>OLS Regression Results</caption>\n<tr>\n  <th>Dep. Variable:</th>        <td>ln_cases</td>     <th>  R-squared:         </th> <td>   0.000</td> \n</tr>\n<tr>\n  <th>Model:</th>                   <td>OLS</td>       <th>  Adj. R-squared:    </th> <td>  -0.000</td> \n</tr>\n<tr>\n  <th>Method:</th>             <td>Least Squares</td>  <th>  F-statistic:       </th> <td>  0.1280</td> \n</tr>\n<tr>\n  <th>Date:</th>             <td>Wed, 17 May 2023</td> <th>  Prob (F-statistic):</th>  <td> 0.720</td>  \n</tr>\n<tr>\n  <th>Time:</th>                 <td>22:41:04</td>     <th>  Log-Likelihood:    </th> <td> -5202.5</td> \n</tr>\n<tr>\n  <th>No. Observations:</th>      <td>  3306</td>      <th>  AIC:               </th> <td>1.041e+04</td>\n</tr>\n<tr>\n  <th>Df Residuals:</th>          <td>  3304</td>      <th>  BIC:               </th> <td>1.042e+04</td>\n</tr>\n<tr>\n  <th>Df Model:</th>              <td>     1</td>      <th>                     </th>     <td> </td>    \n</tr>\n<tr>\n  <th>Covariance Type:</th>      <td>nonrobust</td>    <th>                     </th>     <td> </td>    \n</tr>\n</table>\n<table class=\"simpletable\">\n<tr>\n        <td></td>          <th>coef</th>     <th>std err</th>      <th>t</th>      <th>P>|t|</th>  <th>[0.025</th>    <th>0.975]</th>  \n</tr>\n<tr>\n  <th>const</th>        <td>    1.8627</td> <td>    0.026</td> <td>   72.519</td> <td> 0.000</td> <td>    1.812</td> <td>    1.913</td>\n</tr>\n<tr>\n  <th>ln_cases_lag</th> <td>   -0.0052</td> <td>    0.015</td> <td>   -0.358</td> <td> 0.720</td> <td>   -0.034</td> <td>    0.023</td>\n</tr>\n</table>\n<table class=\"simpletable\">\n<tr>\n  <th>Omnibus:</th>       <td>34.917</td> <th>  Durbin-Watson:     </th> <td>   0.410</td>\n</tr>\n<tr>\n  <th>Prob(Omnibus):</th> <td> 0.000</td> <th>  Jarque-Bera (JB):  </th> <td>  35.862</td>\n</tr>\n<tr>\n  <th>Skew:</th>          <td> 0.252</td> <th>  Prob(JB):          </th> <td>1.63e-08</td>\n</tr>\n<tr>\n  <th>Kurtosis:</th>      <td> 2.923</td> <th>  Cond. No.          </th> <td>    2.56</td>\n</tr>\n</table><br/><br/>Notes:<br/>[1] Standard Errors assume that the covariance matrix of the errors is correctly specified."
     },
     "execution_count": 40,
     "metadata": {},
     "output_type": "execute_result"
    }
   ],
   "source": [
    "X2 = ca_week[['ln_cases_lag']].dropna()\n",
    "Y2 = ca_week.loc[X2.index, 'ln_cases']\n",
    "X2 = sm.add_constant(X2)  # Add a constant term to the model\n",
    "model2 = sm.OLS(Y2, X2).fit()\n",
    "model2.summary()"
   ]
  },
  {
   "cell_type": "code",
   "execution_count": 41,
   "metadata": {
    "ExecuteTime": {
     "start_time": "2023-05-17T22:41:04.489929Z",
     "end_time": "2023-05-17T22:41:04.595656Z"
    }
   },
   "outputs": [
    {
     "data": {
      "text/plain": "<class 'statsmodels.iolib.summary.Summary'>\n\"\"\"\n                            OLS Regression Results                            \n==============================================================================\nDep. Variable:               ln_cases   R-squared:                       0.237\nModel:                            OLS   Adj. R-squared:                  0.235\nMethod:                 Least Squares   F-statistic:                     93.21\nDate:                Wed, 17 May 2023   Prob (F-statistic):          1.30e-184\nTime:                        22:41:04   Log-Likelihood:                -4754.6\nNo. Observations:                3306   AIC:                             9533.\nDf Residuals:                    3294   BIC:                             9606.\nDf Model:                          11                                         \nCovariance Type:            nonrobust                                         \n=============================================================================================\n                                coef    std err          t      P>|t|      [0.025      0.975]\n---------------------------------------------------------------------------------------------\ntransit_stations_lag          0.0062      0.001      5.305      0.000       0.004       0.008\nparks_lag                     0.0014      0.001      2.709      0.007       0.000       0.002\nresidential_lag              -0.0613      0.008     -7.415      0.000      -0.078      -0.045\nretail_and_recreation_lag    -0.0411      0.002    -22.524      0.000      -0.045      -0.038\nworkplaces_lag               -0.0221      0.003     -6.609      0.000      -0.029      -0.016\nunemployment_rate             0.0290      0.008      3.492      0.000       0.013       0.045\nsome_college                 -0.0097      0.005     -1.911      0.056      -0.020       0.000\nbachelor_or_higher            0.0059      0.002      3.705      0.000       0.003       0.009\nhigh_school                   0.0235      0.008      3.050      0.002       0.008       0.039\nless_than_high_school         0.0193      0.004      4.372      0.000       0.011       0.028\npopulation_density          -2.8e-06   7.61e-06     -0.368      0.713   -1.77e-05    1.21e-05\npoverty_rate                 -0.0162      0.009     -1.835      0.067      -0.034       0.001\nparty_DEMOCRAT                0.0004   6.12e-05      6.361      0.000       0.000       0.001\n==============================================================================\nOmnibus:                       88.354   Durbin-Watson:                   0.635\nProb(Omnibus):                  0.000   Jarque-Bera (JB):               94.869\nSkew:                           0.410   Prob(JB):                     2.51e-21\nKurtosis:                       3.126   Cond. No.                     1.05e+19\n==============================================================================\n\nNotes:\n[1] Standard Errors assume that the covariance matrix of the errors is correctly specified.\n[2] The smallest eigenvalue is 2.88e-28. This might indicate that there are\nstrong multicollinearity problems or that the design matrix is singular.\n\"\"\"",
      "text/html": "<table class=\"simpletable\">\n<caption>OLS Regression Results</caption>\n<tr>\n  <th>Dep. Variable:</th>        <td>ln_cases</td>     <th>  R-squared:         </th> <td>   0.237</td> \n</tr>\n<tr>\n  <th>Model:</th>                   <td>OLS</td>       <th>  Adj. R-squared:    </th> <td>   0.235</td> \n</tr>\n<tr>\n  <th>Method:</th>             <td>Least Squares</td>  <th>  F-statistic:       </th> <td>   93.21</td> \n</tr>\n<tr>\n  <th>Date:</th>             <td>Wed, 17 May 2023</td> <th>  Prob (F-statistic):</th> <td>1.30e-184</td>\n</tr>\n<tr>\n  <th>Time:</th>                 <td>22:41:04</td>     <th>  Log-Likelihood:    </th> <td> -4754.6</td> \n</tr>\n<tr>\n  <th>No. Observations:</th>      <td>  3306</td>      <th>  AIC:               </th> <td>   9533.</td> \n</tr>\n<tr>\n  <th>Df Residuals:</th>          <td>  3294</td>      <th>  BIC:               </th> <td>   9606.</td> \n</tr>\n<tr>\n  <th>Df Model:</th>              <td>    11</td>      <th>                     </th>     <td> </td>    \n</tr>\n<tr>\n  <th>Covariance Type:</th>      <td>nonrobust</td>    <th>                     </th>     <td> </td>    \n</tr>\n</table>\n<table class=\"simpletable\">\n<tr>\n              <td></td>                 <th>coef</th>     <th>std err</th>      <th>t</th>      <th>P>|t|</th>  <th>[0.025</th>    <th>0.975]</th>  \n</tr>\n<tr>\n  <th>transit_stations_lag</th>      <td>    0.0062</td> <td>    0.001</td> <td>    5.305</td> <td> 0.000</td> <td>    0.004</td> <td>    0.008</td>\n</tr>\n<tr>\n  <th>parks_lag</th>                 <td>    0.0014</td> <td>    0.001</td> <td>    2.709</td> <td> 0.007</td> <td>    0.000</td> <td>    0.002</td>\n</tr>\n<tr>\n  <th>residential_lag</th>           <td>   -0.0613</td> <td>    0.008</td> <td>   -7.415</td> <td> 0.000</td> <td>   -0.078</td> <td>   -0.045</td>\n</tr>\n<tr>\n  <th>retail_and_recreation_lag</th> <td>   -0.0411</td> <td>    0.002</td> <td>  -22.524</td> <td> 0.000</td> <td>   -0.045</td> <td>   -0.038</td>\n</tr>\n<tr>\n  <th>workplaces_lag</th>            <td>   -0.0221</td> <td>    0.003</td> <td>   -6.609</td> <td> 0.000</td> <td>   -0.029</td> <td>   -0.016</td>\n</tr>\n<tr>\n  <th>unemployment_rate</th>         <td>    0.0290</td> <td>    0.008</td> <td>    3.492</td> <td> 0.000</td> <td>    0.013</td> <td>    0.045</td>\n</tr>\n<tr>\n  <th>some_college</th>              <td>   -0.0097</td> <td>    0.005</td> <td>   -1.911</td> <td> 0.056</td> <td>   -0.020</td> <td>    0.000</td>\n</tr>\n<tr>\n  <th>bachelor_or_higher</th>        <td>    0.0059</td> <td>    0.002</td> <td>    3.705</td> <td> 0.000</td> <td>    0.003</td> <td>    0.009</td>\n</tr>\n<tr>\n  <th>high_school</th>               <td>    0.0235</td> <td>    0.008</td> <td>    3.050</td> <td> 0.002</td> <td>    0.008</td> <td>    0.039</td>\n</tr>\n<tr>\n  <th>less_than_high_school</th>     <td>    0.0193</td> <td>    0.004</td> <td>    4.372</td> <td> 0.000</td> <td>    0.011</td> <td>    0.028</td>\n</tr>\n<tr>\n  <th>population_density</th>        <td>  -2.8e-06</td> <td> 7.61e-06</td> <td>   -0.368</td> <td> 0.713</td> <td>-1.77e-05</td> <td> 1.21e-05</td>\n</tr>\n<tr>\n  <th>poverty_rate</th>              <td>   -0.0162</td> <td>    0.009</td> <td>   -1.835</td> <td> 0.067</td> <td>   -0.034</td> <td>    0.001</td>\n</tr>\n<tr>\n  <th>party_DEMOCRAT</th>            <td>    0.0004</td> <td> 6.12e-05</td> <td>    6.361</td> <td> 0.000</td> <td>    0.000</td> <td>    0.001</td>\n</tr>\n</table>\n<table class=\"simpletable\">\n<tr>\n  <th>Omnibus:</th>       <td>88.354</td> <th>  Durbin-Watson:     </th> <td>   0.635</td>\n</tr>\n<tr>\n  <th>Prob(Omnibus):</th> <td> 0.000</td> <th>  Jarque-Bera (JB):  </th> <td>  94.869</td>\n</tr>\n<tr>\n  <th>Skew:</th>          <td> 0.410</td> <th>  Prob(JB):          </th> <td>2.51e-21</td>\n</tr>\n<tr>\n  <th>Kurtosis:</th>      <td> 3.126</td> <th>  Cond. No.          </th> <td>1.05e+19</td>\n</tr>\n</table><br/><br/>Notes:<br/>[1] Standard Errors assume that the covariance matrix of the errors is correctly specified.<br/>[2] The smallest eigenvalue is 2.88e-28. This might indicate that there are<br/>strong multicollinearity problems or that the design matrix is singular."
     },
     "execution_count": 41,
     "metadata": {},
     "output_type": "execute_result"
    }
   ],
   "source": [
    "X3 = ca_week[['transit_stations_lag', 'parks_lag', 'residential_lag', 'retail_and_recreation_lag', 'workplaces_lag',\n",
    "              'unemployment_rate', 'some_college', 'bachelor_or_higher', 'high_school', 'less_than_high_school',\n",
    "              'population_density',\n",
    "              'poverty_rate', 'party_DEMOCRAT']].dropna()\n",
    "X3 = sm.add_constant(X3)  # Add a constant term to the model\n",
    "Y3 = ca_week.loc[X3.index, 'ln_cases']\n",
    "model3 = sm.OLS(Y3, X3).fit()\n",
    "model3.summary()"
   ]
  },
  {
   "cell_type": "code",
   "execution_count": 42,
   "metadata": {
    "ExecuteTime": {
     "start_time": "2023-05-17T22:41:04.580403Z",
     "end_time": "2023-05-17T22:41:04.622730Z"
    }
   },
   "outputs": [],
   "source": [
    "md_week = md.groupby(['Year_week', 'fips']).mean().reset_index()\n",
    "md_week['ln_cases_lag'] = md.groupby(['Year_week', 'fips'])['ln_cases'].shift(1)\n",
    "md_week['transit_stations_lag'] = md.groupby(['Year_week', 'fips'])['transit_stations'].shift(1)\n",
    "md_week['parks_lag'] = md.groupby(['Year_week', 'fips'])['parks'].shift(1)\n",
    "md_week['residential_lag'] = md.groupby(['Year_week', 'fips'])['residential'].shift(1)\n",
    "md_week['retail_and_recreation_lag'] = md.groupby(['Year_week', 'fips'])['retail_and_recreation'].shift(1)\n",
    "md_week['workplaces_lag'] = md.groupby(['Year_week', 'fips'])['workplaces'].shift(1)\n",
    "md_week.dropna(inplace=True)"
   ]
  },
  {
   "cell_type": "code",
   "execution_count": 43,
   "metadata": {
    "ExecuteTime": {
     "start_time": "2023-05-17T22:41:04.615818Z",
     "end_time": "2023-05-17T22:41:04.632182Z"
    }
   },
   "outputs": [
    {
     "data": {
      "text/plain": "<class 'statsmodels.iolib.summary.Summary'>\n\"\"\"\n                            OLS Regression Results                            \n==============================================================================\nDep. Variable:               ln_cases   R-squared:                       0.067\nModel:                            OLS   Adj. R-squared:                  0.065\nMethod:                 Least Squares   F-statistic:                     34.92\nDate:                Wed, 17 May 2023   Prob (F-statistic):           6.46e-09\nTime:                        22:41:04   Log-Likelihood:                -709.28\nNo. Observations:                 488   AIC:                             1423.\nDf Residuals:                     486   BIC:                             1431.\nDf Model:                           1                                         \nCovariance Type:            nonrobust                                         \n================================================================================\n                   coef    std err          t      P>|t|      [0.025      0.975]\n--------------------------------------------------------------------------------\nconst            1.7397      0.084     20.658      0.000       1.574       1.905\nln_cases_lag     0.2388      0.040      5.910      0.000       0.159       0.318\n==============================================================================\nOmnibus:                       11.862   Durbin-Watson:                   0.385\nProb(Omnibus):                  0.003   Jarque-Bera (JB):               20.774\nSkew:                           0.103   Prob(JB):                     3.08e-05\nKurtosis:                       3.990   Cond. No.                         4.37\n==============================================================================\n\nNotes:\n[1] Standard Errors assume that the covariance matrix of the errors is correctly specified.\n\"\"\"",
      "text/html": "<table class=\"simpletable\">\n<caption>OLS Regression Results</caption>\n<tr>\n  <th>Dep. Variable:</th>        <td>ln_cases</td>     <th>  R-squared:         </th> <td>   0.067</td>\n</tr>\n<tr>\n  <th>Model:</th>                   <td>OLS</td>       <th>  Adj. R-squared:    </th> <td>   0.065</td>\n</tr>\n<tr>\n  <th>Method:</th>             <td>Least Squares</td>  <th>  F-statistic:       </th> <td>   34.92</td>\n</tr>\n<tr>\n  <th>Date:</th>             <td>Wed, 17 May 2023</td> <th>  Prob (F-statistic):</th> <td>6.46e-09</td>\n</tr>\n<tr>\n  <th>Time:</th>                 <td>22:41:04</td>     <th>  Log-Likelihood:    </th> <td> -709.28</td>\n</tr>\n<tr>\n  <th>No. Observations:</th>      <td>   488</td>      <th>  AIC:               </th> <td>   1423.</td>\n</tr>\n<tr>\n  <th>Df Residuals:</th>          <td>   486</td>      <th>  BIC:               </th> <td>   1431.</td>\n</tr>\n<tr>\n  <th>Df Model:</th>              <td>     1</td>      <th>                     </th>     <td> </td>   \n</tr>\n<tr>\n  <th>Covariance Type:</th>      <td>nonrobust</td>    <th>                     </th>     <td> </td>   \n</tr>\n</table>\n<table class=\"simpletable\">\n<tr>\n        <td></td>          <th>coef</th>     <th>std err</th>      <th>t</th>      <th>P>|t|</th>  <th>[0.025</th>    <th>0.975]</th>  \n</tr>\n<tr>\n  <th>const</th>        <td>    1.7397</td> <td>    0.084</td> <td>   20.658</td> <td> 0.000</td> <td>    1.574</td> <td>    1.905</td>\n</tr>\n<tr>\n  <th>ln_cases_lag</th> <td>    0.2388</td> <td>    0.040</td> <td>    5.910</td> <td> 0.000</td> <td>    0.159</td> <td>    0.318</td>\n</tr>\n</table>\n<table class=\"simpletable\">\n<tr>\n  <th>Omnibus:</th>       <td>11.862</td> <th>  Durbin-Watson:     </th> <td>   0.385</td>\n</tr>\n<tr>\n  <th>Prob(Omnibus):</th> <td> 0.003</td> <th>  Jarque-Bera (JB):  </th> <td>  20.774</td>\n</tr>\n<tr>\n  <th>Skew:</th>          <td> 0.103</td> <th>  Prob(JB):          </th> <td>3.08e-05</td>\n</tr>\n<tr>\n  <th>Kurtosis:</th>      <td> 3.990</td> <th>  Cond. No.          </th> <td>    4.37</td>\n</tr>\n</table><br/><br/>Notes:<br/>[1] Standard Errors assume that the covariance matrix of the errors is correctly specified."
     },
     "execution_count": 43,
     "metadata": {},
     "output_type": "execute_result"
    }
   ],
   "source": [
    "X2 = md_week[['ln_cases_lag']].dropna()\n",
    "Y2 = md_week.loc[X2.index, 'ln_cases']\n",
    "X2 = sm.add_constant(X2)  # Add a constant term to the model\n",
    "model2 = sm.OLS(Y2, X2).fit()\n",
    "model2.summary()"
   ]
  },
  {
   "cell_type": "code",
   "execution_count": 44,
   "metadata": {
    "ExecuteTime": {
     "start_time": "2023-05-17T22:41:04.630437Z",
     "end_time": "2023-05-17T22:41:04.647397Z"
    }
   },
   "outputs": [
    {
     "data": {
      "text/plain": "<class 'statsmodels.iolib.summary.Summary'>\n\"\"\"\n                            OLS Regression Results                            \n==============================================================================\nDep. Variable:               ln_cases   R-squared:                       0.219\nModel:                            OLS   Adj. R-squared:                  0.201\nMethod:                 Least Squares   F-statistic:                     12.16\nDate:                Wed, 17 May 2023   Prob (F-statistic):           2.90e-20\nTime:                        22:41:04   Log-Likelihood:                -665.78\nNo. Observations:                 488   AIC:                             1356.\nDf Residuals:                     476   BIC:                             1406.\nDf Model:                          11                                         \nCovariance Type:            nonrobust                                         \n=============================================================================================\n                                coef    std err          t      P>|t|      [0.025      0.975]\n---------------------------------------------------------------------------------------------\ntransit_stations_lag          0.0040      0.003      1.401      0.162      -0.002       0.010\nparks_lag                    -0.0004      0.001     -0.459      0.647      -0.002       0.001\nresidential_lag               0.0448      0.022      2.062      0.040       0.002       0.088\nretail_and_recreation_lag    -0.0331      0.005     -6.667      0.000      -0.043      -0.023\nworkplaces_lag                0.0094      0.009      1.033      0.302      -0.009       0.027\nunemployment_rate            -0.3844      0.049     -7.864      0.000      -0.480      -0.288\nsome_college                  0.0873      0.029      3.041      0.002       0.031       0.144\nbachelor_or_higher            0.0057      0.006      0.987      0.324      -0.006       0.017\nhigh_school                  -0.0276      0.030     -0.909      0.364      -0.087       0.032\nless_than_high_school         0.1157      0.032      3.645      0.000       0.053       0.178\npopulation_density         3.505e-05   6.73e-05      0.520      0.603   -9.73e-05       0.000\npoverty_rate                  0.0174      0.045      0.390      0.697      -0.070       0.105\nparty_DEMOCRAT                0.0018      0.000      5.655      0.000       0.001       0.002\n==============================================================================\nOmnibus:                        6.054   Durbin-Watson:                   0.604\nProb(Omnibus):                  0.048   Jarque-Bera (JB):                7.587\nSkew:                           0.114   Prob(JB):                       0.0225\nKurtosis:                       3.567   Cond. No.                     2.08e+19\n==============================================================================\n\nNotes:\n[1] Standard Errors assume that the covariance matrix of the errors is correctly specified.\n[2] The smallest eigenvalue is 6.21e-30. This might indicate that there are\nstrong multicollinearity problems or that the design matrix is singular.\n\"\"\"",
      "text/html": "<table class=\"simpletable\">\n<caption>OLS Regression Results</caption>\n<tr>\n  <th>Dep. Variable:</th>        <td>ln_cases</td>     <th>  R-squared:         </th> <td>   0.219</td>\n</tr>\n<tr>\n  <th>Model:</th>                   <td>OLS</td>       <th>  Adj. R-squared:    </th> <td>   0.201</td>\n</tr>\n<tr>\n  <th>Method:</th>             <td>Least Squares</td>  <th>  F-statistic:       </th> <td>   12.16</td>\n</tr>\n<tr>\n  <th>Date:</th>             <td>Wed, 17 May 2023</td> <th>  Prob (F-statistic):</th> <td>2.90e-20</td>\n</tr>\n<tr>\n  <th>Time:</th>                 <td>22:41:04</td>     <th>  Log-Likelihood:    </th> <td> -665.78</td>\n</tr>\n<tr>\n  <th>No. Observations:</th>      <td>   488</td>      <th>  AIC:               </th> <td>   1356.</td>\n</tr>\n<tr>\n  <th>Df Residuals:</th>          <td>   476</td>      <th>  BIC:               </th> <td>   1406.</td>\n</tr>\n<tr>\n  <th>Df Model:</th>              <td>    11</td>      <th>                     </th>     <td> </td>   \n</tr>\n<tr>\n  <th>Covariance Type:</th>      <td>nonrobust</td>    <th>                     </th>     <td> </td>   \n</tr>\n</table>\n<table class=\"simpletable\">\n<tr>\n              <td></td>                 <th>coef</th>     <th>std err</th>      <th>t</th>      <th>P>|t|</th>  <th>[0.025</th>    <th>0.975]</th>  \n</tr>\n<tr>\n  <th>transit_stations_lag</th>      <td>    0.0040</td> <td>    0.003</td> <td>    1.401</td> <td> 0.162</td> <td>   -0.002</td> <td>    0.010</td>\n</tr>\n<tr>\n  <th>parks_lag</th>                 <td>   -0.0004</td> <td>    0.001</td> <td>   -0.459</td> <td> 0.647</td> <td>   -0.002</td> <td>    0.001</td>\n</tr>\n<tr>\n  <th>residential_lag</th>           <td>    0.0448</td> <td>    0.022</td> <td>    2.062</td> <td> 0.040</td> <td>    0.002</td> <td>    0.088</td>\n</tr>\n<tr>\n  <th>retail_and_recreation_lag</th> <td>   -0.0331</td> <td>    0.005</td> <td>   -6.667</td> <td> 0.000</td> <td>   -0.043</td> <td>   -0.023</td>\n</tr>\n<tr>\n  <th>workplaces_lag</th>            <td>    0.0094</td> <td>    0.009</td> <td>    1.033</td> <td> 0.302</td> <td>   -0.009</td> <td>    0.027</td>\n</tr>\n<tr>\n  <th>unemployment_rate</th>         <td>   -0.3844</td> <td>    0.049</td> <td>   -7.864</td> <td> 0.000</td> <td>   -0.480</td> <td>   -0.288</td>\n</tr>\n<tr>\n  <th>some_college</th>              <td>    0.0873</td> <td>    0.029</td> <td>    3.041</td> <td> 0.002</td> <td>    0.031</td> <td>    0.144</td>\n</tr>\n<tr>\n  <th>bachelor_or_higher</th>        <td>    0.0057</td> <td>    0.006</td> <td>    0.987</td> <td> 0.324</td> <td>   -0.006</td> <td>    0.017</td>\n</tr>\n<tr>\n  <th>high_school</th>               <td>   -0.0276</td> <td>    0.030</td> <td>   -0.909</td> <td> 0.364</td> <td>   -0.087</td> <td>    0.032</td>\n</tr>\n<tr>\n  <th>less_than_high_school</th>     <td>    0.1157</td> <td>    0.032</td> <td>    3.645</td> <td> 0.000</td> <td>    0.053</td> <td>    0.178</td>\n</tr>\n<tr>\n  <th>population_density</th>        <td> 3.505e-05</td> <td> 6.73e-05</td> <td>    0.520</td> <td> 0.603</td> <td>-9.73e-05</td> <td>    0.000</td>\n</tr>\n<tr>\n  <th>poverty_rate</th>              <td>    0.0174</td> <td>    0.045</td> <td>    0.390</td> <td> 0.697</td> <td>   -0.070</td> <td>    0.105</td>\n</tr>\n<tr>\n  <th>party_DEMOCRAT</th>            <td>    0.0018</td> <td>    0.000</td> <td>    5.655</td> <td> 0.000</td> <td>    0.001</td> <td>    0.002</td>\n</tr>\n</table>\n<table class=\"simpletable\">\n<tr>\n  <th>Omnibus:</th>       <td> 6.054</td> <th>  Durbin-Watson:     </th> <td>   0.604</td>\n</tr>\n<tr>\n  <th>Prob(Omnibus):</th> <td> 0.048</td> <th>  Jarque-Bera (JB):  </th> <td>   7.587</td>\n</tr>\n<tr>\n  <th>Skew:</th>          <td> 0.114</td> <th>  Prob(JB):          </th> <td>  0.0225</td>\n</tr>\n<tr>\n  <th>Kurtosis:</th>      <td> 3.567</td> <th>  Cond. No.          </th> <td>2.08e+19</td>\n</tr>\n</table><br/><br/>Notes:<br/>[1] Standard Errors assume that the covariance matrix of the errors is correctly specified.<br/>[2] The smallest eigenvalue is 6.21e-30. This might indicate that there are<br/>strong multicollinearity problems or that the design matrix is singular."
     },
     "execution_count": 44,
     "metadata": {},
     "output_type": "execute_result"
    }
   ],
   "source": [
    "X3 = md_week[['transit_stations_lag', 'parks_lag', 'residential_lag', 'retail_and_recreation_lag', 'workplaces_lag',\n",
    "              'unemployment_rate', 'some_college', 'bachelor_or_higher', 'high_school', 'less_than_high_school',\n",
    "              'population_density',\n",
    "              'poverty_rate', 'party_DEMOCRAT']].dropna()\n",
    "X3 = sm.add_constant(X3)  # Add a constant term to the model\n",
    "Y3 = md_week.loc[X3.index, 'ln_cases']\n",
    "model3 = sm.OLS(Y3, X3).fit()\n",
    "model3.summary()"
   ]
  },
  {
   "cell_type": "code",
   "execution_count": 45,
   "metadata": {
    "ExecuteTime": {
     "start_time": "2023-05-17T22:41:04.645930Z",
     "end_time": "2023-05-17T22:41:04.709149Z"
    }
   },
   "outputs": [],
   "source": [
    "oh_week = oh.groupby(['Year_week', 'fips']).mean().reset_index()\n",
    "oh_week['ln_cases_lag'] = oh.groupby(['Year_week', 'fips'])['ln_cases'].shift(1)\n",
    "oh_week['transit_stations_lag'] = oh.groupby(['Year_week', 'fips'])['transit_stations'].shift(1)\n",
    "oh_week['parks_lag'] = oh.groupby(['Year_week', 'fips'])['parks'].shift(1)\n",
    "oh_week['residential_lag'] = oh.groupby(['Year_week', 'fips'])['residential'].shift(1)\n",
    "oh_week['retail_and_recreation_lag'] = oh.groupby(['Year_week', 'fips'])['retail_and_recreation'].shift(1)\n",
    "oh_week['workplaces_lag'] = oh.groupby(['Year_week', 'fips'])['workplaces'].shift(1)\n",
    "oh_week.dropna(inplace=True)"
   ]
  },
  {
   "cell_type": "code",
   "execution_count": 46,
   "metadata": {
    "ExecuteTime": {
     "start_time": "2023-05-17T22:41:04.709269Z",
     "end_time": "2023-05-17T22:41:04.732499Z"
    }
   },
   "outputs": [
    {
     "data": {
      "text/plain": "<class 'statsmodels.iolib.summary.Summary'>\n\"\"\"\n                            OLS Regression Results                            \n==============================================================================\nDep. Variable:               ln_cases   R-squared:                       0.001\nModel:                            OLS   Adj. R-squared:                 -0.003\nMethod:                 Least Squares   F-statistic:                    0.1518\nDate:                Wed, 17 May 2023   Prob (F-statistic):              0.697\nTime:                        22:41:04   Log-Likelihood:                -467.34\nNo. Observations:                 260   AIC:                             938.7\nDf Residuals:                     258   BIC:                             945.8\nDf Model:                           1                                         \nCovariance Type:            nonrobust                                         \n================================================================================\n                   coef    std err          t      P>|t|      [0.025      0.975]\n--------------------------------------------------------------------------------\nconst            1.9436      0.133     14.603      0.000       1.681       2.206\nln_cases_lag     0.0309      0.079      0.390      0.697      -0.125       0.187\n==============================================================================\nOmnibus:                       52.005   Durbin-Watson:                   0.216\nProb(Omnibus):                  0.000   Jarque-Bera (JB):               17.186\nSkew:                           0.386   Prob(JB):                     0.000185\nKurtosis:                       2.006   Cond. No.                         2.99\n==============================================================================\n\nNotes:\n[1] Standard Errors assume that the covariance matrix of the errors is correctly specified.\n\"\"\"",
      "text/html": "<table class=\"simpletable\">\n<caption>OLS Regression Results</caption>\n<tr>\n  <th>Dep. Variable:</th>        <td>ln_cases</td>     <th>  R-squared:         </th> <td>   0.001</td>\n</tr>\n<tr>\n  <th>Model:</th>                   <td>OLS</td>       <th>  Adj. R-squared:    </th> <td>  -0.003</td>\n</tr>\n<tr>\n  <th>Method:</th>             <td>Least Squares</td>  <th>  F-statistic:       </th> <td>  0.1518</td>\n</tr>\n<tr>\n  <th>Date:</th>             <td>Wed, 17 May 2023</td> <th>  Prob (F-statistic):</th>  <td> 0.697</td> \n</tr>\n<tr>\n  <th>Time:</th>                 <td>22:41:04</td>     <th>  Log-Likelihood:    </th> <td> -467.34</td>\n</tr>\n<tr>\n  <th>No. Observations:</th>      <td>   260</td>      <th>  AIC:               </th> <td>   938.7</td>\n</tr>\n<tr>\n  <th>Df Residuals:</th>          <td>   258</td>      <th>  BIC:               </th> <td>   945.8</td>\n</tr>\n<tr>\n  <th>Df Model:</th>              <td>     1</td>      <th>                     </th>     <td> </td>   \n</tr>\n<tr>\n  <th>Covariance Type:</th>      <td>nonrobust</td>    <th>                     </th>     <td> </td>   \n</tr>\n</table>\n<table class=\"simpletable\">\n<tr>\n        <td></td>          <th>coef</th>     <th>std err</th>      <th>t</th>      <th>P>|t|</th>  <th>[0.025</th>    <th>0.975]</th>  \n</tr>\n<tr>\n  <th>const</th>        <td>    1.9436</td> <td>    0.133</td> <td>   14.603</td> <td> 0.000</td> <td>    1.681</td> <td>    2.206</td>\n</tr>\n<tr>\n  <th>ln_cases_lag</th> <td>    0.0309</td> <td>    0.079</td> <td>    0.390</td> <td> 0.697</td> <td>   -0.125</td> <td>    0.187</td>\n</tr>\n</table>\n<table class=\"simpletable\">\n<tr>\n  <th>Omnibus:</th>       <td>52.005</td> <th>  Durbin-Watson:     </th> <td>   0.216</td>\n</tr>\n<tr>\n  <th>Prob(Omnibus):</th> <td> 0.000</td> <th>  Jarque-Bera (JB):  </th> <td>  17.186</td>\n</tr>\n<tr>\n  <th>Skew:</th>          <td> 0.386</td> <th>  Prob(JB):          </th> <td>0.000185</td>\n</tr>\n<tr>\n  <th>Kurtosis:</th>      <td> 2.006</td> <th>  Cond. No.          </th> <td>    2.99</td>\n</tr>\n</table><br/><br/>Notes:<br/>[1] Standard Errors assume that the covariance matrix of the errors is correctly specified."
     },
     "execution_count": 46,
     "metadata": {},
     "output_type": "execute_result"
    }
   ],
   "source": [
    "X2 = oh_week[['ln_cases_lag']].dropna()\n",
    "Y2 = oh_week.loc[X2.index, 'ln_cases']\n",
    "X2 = sm.add_constant(X2)  # Add a constant term to the model\n",
    "model2 = sm.OLS(Y2, X2).fit()\n",
    "model2.summary()"
   ]
  },
  {
   "cell_type": "code",
   "execution_count": 47,
   "metadata": {
    "ExecuteTime": {
     "start_time": "2023-05-17T22:41:04.723356Z",
     "end_time": "2023-05-17T22:41:04.737563Z"
    }
   },
   "outputs": [
    {
     "data": {
      "text/plain": "<class 'statsmodels.iolib.summary.Summary'>\n\"\"\"\n                            OLS Regression Results                            \n==============================================================================\nDep. Variable:               ln_cases   R-squared:                       0.123\nModel:                            OLS   Adj. R-squared:                  0.085\nMethod:                 Least Squares   F-statistic:                     3.175\nDate:                Wed, 17 May 2023   Prob (F-statistic):           0.000477\nTime:                        22:41:04   Log-Likelihood:                -450.29\nNo. Observations:                 260   AIC:                             924.6\nDf Residuals:                     248   BIC:                             967.3\nDf Model:                          11                                         \nCovariance Type:            nonrobust                                         \n=============================================================================================\n                                coef    std err          t      P>|t|      [0.025      0.975]\n---------------------------------------------------------------------------------------------\ntransit_stations_lag         -0.0100      0.008     -1.249      0.213      -0.026       0.006\nparks_lag                     0.0043      0.002      2.273      0.024       0.001       0.008\nresidential_lag               0.0356      0.040      0.898      0.370      -0.042       0.114\nretail_and_recreation_lag    -0.0095      0.010     -0.954      0.341      -0.029       0.010\nworkplaces_lag               -0.0075      0.017     -0.450      0.653      -0.040       0.025\nunemployment_rate            -0.1107      0.066     -1.689      0.092      -0.240       0.018\nsome_college                 -0.0265      0.025     -1.077      0.282      -0.075       0.022\nbachelor_or_higher            0.0043      0.015      0.290      0.772      -0.025       0.033\nhigh_school                   0.0206      0.025      0.824      0.411      -0.029       0.070\nless_than_high_school         0.3125      0.106      2.952      0.003       0.104       0.521\npopulation_density            0.0004      0.000      1.619      0.107    -7.9e-05       0.001\npoverty_rate                 -0.1384      0.064     -2.161      0.032      -0.264      -0.012\nparty_DEMOCRAT                0.0031      0.001      3.227      0.001       0.001       0.005\n==============================================================================\nOmnibus:                       26.465   Durbin-Watson:                   0.391\nProb(Omnibus):                  0.000   Jarque-Bera (JB):               19.457\nSkew:                           0.561   Prob(JB):                     5.96e-05\nKurtosis:                       2.266   Cond. No.                     9.07e+18\n==============================================================================\n\nNotes:\n[1] Standard Errors assume that the covariance matrix of the errors is correctly specified.\n[2] The smallest eigenvalue is 5.16e-30. This might indicate that there are\nstrong multicollinearity problems or that the design matrix is singular.\n\"\"\"",
      "text/html": "<table class=\"simpletable\">\n<caption>OLS Regression Results</caption>\n<tr>\n  <th>Dep. Variable:</th>        <td>ln_cases</td>     <th>  R-squared:         </th> <td>   0.123</td>\n</tr>\n<tr>\n  <th>Model:</th>                   <td>OLS</td>       <th>  Adj. R-squared:    </th> <td>   0.085</td>\n</tr>\n<tr>\n  <th>Method:</th>             <td>Least Squares</td>  <th>  F-statistic:       </th> <td>   3.175</td>\n</tr>\n<tr>\n  <th>Date:</th>             <td>Wed, 17 May 2023</td> <th>  Prob (F-statistic):</th> <td>0.000477</td>\n</tr>\n<tr>\n  <th>Time:</th>                 <td>22:41:04</td>     <th>  Log-Likelihood:    </th> <td> -450.29</td>\n</tr>\n<tr>\n  <th>No. Observations:</th>      <td>   260</td>      <th>  AIC:               </th> <td>   924.6</td>\n</tr>\n<tr>\n  <th>Df Residuals:</th>          <td>   248</td>      <th>  BIC:               </th> <td>   967.3</td>\n</tr>\n<tr>\n  <th>Df Model:</th>              <td>    11</td>      <th>                     </th>     <td> </td>   \n</tr>\n<tr>\n  <th>Covariance Type:</th>      <td>nonrobust</td>    <th>                     </th>     <td> </td>   \n</tr>\n</table>\n<table class=\"simpletable\">\n<tr>\n              <td></td>                 <th>coef</th>     <th>std err</th>      <th>t</th>      <th>P>|t|</th>  <th>[0.025</th>    <th>0.975]</th>  \n</tr>\n<tr>\n  <th>transit_stations_lag</th>      <td>   -0.0100</td> <td>    0.008</td> <td>   -1.249</td> <td> 0.213</td> <td>   -0.026</td> <td>    0.006</td>\n</tr>\n<tr>\n  <th>parks_lag</th>                 <td>    0.0043</td> <td>    0.002</td> <td>    2.273</td> <td> 0.024</td> <td>    0.001</td> <td>    0.008</td>\n</tr>\n<tr>\n  <th>residential_lag</th>           <td>    0.0356</td> <td>    0.040</td> <td>    0.898</td> <td> 0.370</td> <td>   -0.042</td> <td>    0.114</td>\n</tr>\n<tr>\n  <th>retail_and_recreation_lag</th> <td>   -0.0095</td> <td>    0.010</td> <td>   -0.954</td> <td> 0.341</td> <td>   -0.029</td> <td>    0.010</td>\n</tr>\n<tr>\n  <th>workplaces_lag</th>            <td>   -0.0075</td> <td>    0.017</td> <td>   -0.450</td> <td> 0.653</td> <td>   -0.040</td> <td>    0.025</td>\n</tr>\n<tr>\n  <th>unemployment_rate</th>         <td>   -0.1107</td> <td>    0.066</td> <td>   -1.689</td> <td> 0.092</td> <td>   -0.240</td> <td>    0.018</td>\n</tr>\n<tr>\n  <th>some_college</th>              <td>   -0.0265</td> <td>    0.025</td> <td>   -1.077</td> <td> 0.282</td> <td>   -0.075</td> <td>    0.022</td>\n</tr>\n<tr>\n  <th>bachelor_or_higher</th>        <td>    0.0043</td> <td>    0.015</td> <td>    0.290</td> <td> 0.772</td> <td>   -0.025</td> <td>    0.033</td>\n</tr>\n<tr>\n  <th>high_school</th>               <td>    0.0206</td> <td>    0.025</td> <td>    0.824</td> <td> 0.411</td> <td>   -0.029</td> <td>    0.070</td>\n</tr>\n<tr>\n  <th>less_than_high_school</th>     <td>    0.3125</td> <td>    0.106</td> <td>    2.952</td> <td> 0.003</td> <td>    0.104</td> <td>    0.521</td>\n</tr>\n<tr>\n  <th>population_density</th>        <td>    0.0004</td> <td>    0.000</td> <td>    1.619</td> <td> 0.107</td> <td> -7.9e-05</td> <td>    0.001</td>\n</tr>\n<tr>\n  <th>poverty_rate</th>              <td>   -0.1384</td> <td>    0.064</td> <td>   -2.161</td> <td> 0.032</td> <td>   -0.264</td> <td>   -0.012</td>\n</tr>\n<tr>\n  <th>party_DEMOCRAT</th>            <td>    0.0031</td> <td>    0.001</td> <td>    3.227</td> <td> 0.001</td> <td>    0.001</td> <td>    0.005</td>\n</tr>\n</table>\n<table class=\"simpletable\">\n<tr>\n  <th>Omnibus:</th>       <td>26.465</td> <th>  Durbin-Watson:     </th> <td>   0.391</td>\n</tr>\n<tr>\n  <th>Prob(Omnibus):</th> <td> 0.000</td> <th>  Jarque-Bera (JB):  </th> <td>  19.457</td>\n</tr>\n<tr>\n  <th>Skew:</th>          <td> 0.561</td> <th>  Prob(JB):          </th> <td>5.96e-05</td>\n</tr>\n<tr>\n  <th>Kurtosis:</th>      <td> 2.266</td> <th>  Cond. No.          </th> <td>9.07e+18</td>\n</tr>\n</table><br/><br/>Notes:<br/>[1] Standard Errors assume that the covariance matrix of the errors is correctly specified.<br/>[2] The smallest eigenvalue is 5.16e-30. This might indicate that there are<br/>strong multicollinearity problems or that the design matrix is singular."
     },
     "execution_count": 47,
     "metadata": {},
     "output_type": "execute_result"
    }
   ],
   "source": [
    "X3 = oh_week[['transit_stations_lag', 'parks_lag', 'residential_lag', 'retail_and_recreation_lag', 'workplaces_lag',\n",
    "              'unemployment_rate', 'some_college', 'bachelor_or_higher', 'high_school', 'less_than_high_school',\n",
    "              'population_density',\n",
    "              'poverty_rate', 'party_DEMOCRAT']].dropna()\n",
    "X3 = sm.add_constant(X3)  # Add a constant term to the model\n",
    "Y3 = oh_week.loc[X3.index, 'ln_cases']\n",
    "model3 = sm.OLS(Y3, X3).fit()\n",
    "model3.summary()"
   ]
  },
  {
   "cell_type": "code",
   "execution_count": 48,
   "metadata": {
    "ExecuteTime": {
     "start_time": "2023-05-17T22:41:04.741315Z",
     "end_time": "2023-05-17T22:41:04.792395Z"
    }
   },
   "outputs": [],
   "source": [
    "pa_week = pa.groupby(['Year_week', 'fips']).mean().reset_index()\n",
    "pa_week['ln_cases_lag'] = pa.groupby(['Year_week', 'fips'])['ln_cases'].shift(1)\n",
    "pa_week['transit_stations_lag'] = pa.groupby(['Year_week', 'fips'])['transit_stations'].shift(1)\n",
    "pa_week['parks_lag'] = pa.groupby(['Year_week', 'fips'])['parks'].shift(1)\n",
    "pa_week['residential_lag'] = pa.groupby(['Year_week', 'fips'])['residential'].shift(1)\n",
    "pa_week['retail_and_recreation_lag'] = pa.groupby(['Year_week', 'fips'])['retail_and_recreation'].shift(1)\n",
    "pa_week['workplaces_lag'] = pa.groupby(['Year_week', 'fips'])['workplaces'].shift(1)\n",
    "pa_week.dropna(inplace=True)"
   ]
  },
  {
   "cell_type": "code",
   "execution_count": 49,
   "metadata": {
    "ExecuteTime": {
     "start_time": "2023-05-17T22:41:04.795136Z",
     "end_time": "2023-05-17T22:41:04.828912Z"
    }
   },
   "outputs": [
    {
     "data": {
      "text/plain": "<class 'statsmodels.iolib.summary.Summary'>\n\"\"\"\n                            OLS Regression Results                            \n==============================================================================\nDep. Variable:               ln_cases   R-squared:                       0.047\nModel:                            OLS   Adj. R-squared:                  0.033\nMethod:                 Least Squares   F-statistic:                     3.367\nDate:                Wed, 17 May 2023   Prob (F-statistic):             0.0709\nTime:                        22:41:04   Log-Likelihood:                -100.63\nNo. Observations:                  70   AIC:                             205.3\nDf Residuals:                      68   BIC:                             209.7\nDf Model:                           1                                         \nCovariance Type:            nonrobust                                         \n================================================================================\n                   coef    std err          t      P>|t|      [0.025      0.975]\n--------------------------------------------------------------------------------\nconst            3.1549      0.158     19.987      0.000       2.840       3.470\nln_cases_lag     0.1640      0.089      1.835      0.071      -0.014       0.342\n==============================================================================\nOmnibus:                        7.434   Durbin-Watson:                   0.696\nProb(Omnibus):                  0.024   Jarque-Bera (JB):                6.823\nSkew:                          -0.637   Prob(JB):                       0.0330\nKurtosis:                       3.848   Cond. No.                         2.59\n==============================================================================\n\nNotes:\n[1] Standard Errors assume that the covariance matrix of the errors is correctly specified.\n\"\"\"",
      "text/html": "<table class=\"simpletable\">\n<caption>OLS Regression Results</caption>\n<tr>\n  <th>Dep. Variable:</th>        <td>ln_cases</td>     <th>  R-squared:         </th> <td>   0.047</td>\n</tr>\n<tr>\n  <th>Model:</th>                   <td>OLS</td>       <th>  Adj. R-squared:    </th> <td>   0.033</td>\n</tr>\n<tr>\n  <th>Method:</th>             <td>Least Squares</td>  <th>  F-statistic:       </th> <td>   3.367</td>\n</tr>\n<tr>\n  <th>Date:</th>             <td>Wed, 17 May 2023</td> <th>  Prob (F-statistic):</th>  <td>0.0709</td> \n</tr>\n<tr>\n  <th>Time:</th>                 <td>22:41:04</td>     <th>  Log-Likelihood:    </th> <td> -100.63</td>\n</tr>\n<tr>\n  <th>No. Observations:</th>      <td>    70</td>      <th>  AIC:               </th> <td>   205.3</td>\n</tr>\n<tr>\n  <th>Df Residuals:</th>          <td>    68</td>      <th>  BIC:               </th> <td>   209.7</td>\n</tr>\n<tr>\n  <th>Df Model:</th>              <td>     1</td>      <th>                     </th>     <td> </td>   \n</tr>\n<tr>\n  <th>Covariance Type:</th>      <td>nonrobust</td>    <th>                     </th>     <td> </td>   \n</tr>\n</table>\n<table class=\"simpletable\">\n<tr>\n        <td></td>          <th>coef</th>     <th>std err</th>      <th>t</th>      <th>P>|t|</th>  <th>[0.025</th>    <th>0.975]</th>  \n</tr>\n<tr>\n  <th>const</th>        <td>    3.1549</td> <td>    0.158</td> <td>   19.987</td> <td> 0.000</td> <td>    2.840</td> <td>    3.470</td>\n</tr>\n<tr>\n  <th>ln_cases_lag</th> <td>    0.1640</td> <td>    0.089</td> <td>    1.835</td> <td> 0.071</td> <td>   -0.014</td> <td>    0.342</td>\n</tr>\n</table>\n<table class=\"simpletable\">\n<tr>\n  <th>Omnibus:</th>       <td> 7.434</td> <th>  Durbin-Watson:     </th> <td>   0.696</td>\n</tr>\n<tr>\n  <th>Prob(Omnibus):</th> <td> 0.024</td> <th>  Jarque-Bera (JB):  </th> <td>   6.823</td>\n</tr>\n<tr>\n  <th>Skew:</th>          <td>-0.637</td> <th>  Prob(JB):          </th> <td>  0.0330</td>\n</tr>\n<tr>\n  <th>Kurtosis:</th>      <td> 3.848</td> <th>  Cond. No.          </th> <td>    2.59</td>\n</tr>\n</table><br/><br/>Notes:<br/>[1] Standard Errors assume that the covariance matrix of the errors is correctly specified."
     },
     "execution_count": 49,
     "metadata": {},
     "output_type": "execute_result"
    }
   ],
   "source": [
    "X2 = pa_week[['ln_cases_lag']].dropna()\n",
    "Y2 = pa_week.loc[X2.index, 'ln_cases']\n",
    "X2 = sm.add_constant(X2)  # Add a constant term to the model\n",
    "model2 = sm.OLS(Y2, X2).fit()\n",
    "model2.summary()"
   ]
  },
  {
   "cell_type": "code",
   "execution_count": 50,
   "metadata": {
    "ExecuteTime": {
     "start_time": "2023-05-17T22:41:04.813305Z",
     "end_time": "2023-05-17T22:41:04.844298Z"
    }
   },
   "outputs": [
    {
     "data": {
      "text/plain": "<class 'statsmodels.iolib.summary.Summary'>\n\"\"\"\n                            OLS Regression Results                            \n==============================================================================\nDep. Variable:               ln_cases   R-squared:                       0.573\nModel:                            OLS   Adj. R-squared:                  0.493\nMethod:                 Least Squares   F-statistic:                     7.089\nDate:                Wed, 17 May 2023   Prob (F-statistic):           1.86e-07\nTime:                        22:41:04   Log-Likelihood:                -72.497\nNo. Observations:                  70   AIC:                             169.0\nDf Residuals:                      58   BIC:                             196.0\nDf Model:                          11                                         \nCovariance Type:            nonrobust                                         \n=============================================================================================\n                                coef    std err          t      P>|t|      [0.025      0.975]\n---------------------------------------------------------------------------------------------\ntransit_stations_lag          0.0170      0.008      2.253      0.028       0.002       0.032\nparks_lag                     0.0058      0.002      3.130      0.003       0.002       0.009\nresidential_lag              -0.1114      0.044     -2.530      0.014      -0.200      -0.023\nretail_and_recreation_lag    -0.0077      0.012     -0.619      0.539      -0.033       0.017\nworkplaces_lag               -0.0982      0.023     -4.323      0.000      -0.144      -0.053\nunemployment_rate            -0.2293      0.073     -3.163      0.002      -0.374      -0.084\nsome_college                  0.0938      0.065      1.434      0.157      -0.037       0.225\nbachelor_or_higher           -0.0122      0.016     -0.741      0.461      -0.045       0.021\nhigh_school                   0.0162      0.035      0.457      0.649      -0.055       0.087\nless_than_high_school        -0.0330      0.041     -0.797      0.429      -0.116       0.050\npopulation_density        -6.412e-05   7.03e-05     -0.913      0.365      -0.000    7.65e-05\npoverty_rate                  0.0731      0.062      1.181      0.243      -0.051       0.197\nparty_DEMOCRAT                0.0006      0.001      1.218      0.228      -0.000       0.002\n==============================================================================\nOmnibus:                        2.894   Durbin-Watson:                   1.157\nProb(Omnibus):                  0.235   Jarque-Bera (JB):                2.087\nSkew:                          -0.362   Prob(JB):                        0.352\nKurtosis:                       3.437   Cond. No.                     1.91e+19\n==============================================================================\n\nNotes:\n[1] Standard Errors assume that the covariance matrix of the errors is correctly specified.\n[2] The smallest eigenvalue is 3.56e-30. This might indicate that there are\nstrong multicollinearity problems or that the design matrix is singular.\n\"\"\"",
      "text/html": "<table class=\"simpletable\">\n<caption>OLS Regression Results</caption>\n<tr>\n  <th>Dep. Variable:</th>        <td>ln_cases</td>     <th>  R-squared:         </th> <td>   0.573</td>\n</tr>\n<tr>\n  <th>Model:</th>                   <td>OLS</td>       <th>  Adj. R-squared:    </th> <td>   0.493</td>\n</tr>\n<tr>\n  <th>Method:</th>             <td>Least Squares</td>  <th>  F-statistic:       </th> <td>   7.089</td>\n</tr>\n<tr>\n  <th>Date:</th>             <td>Wed, 17 May 2023</td> <th>  Prob (F-statistic):</th> <td>1.86e-07</td>\n</tr>\n<tr>\n  <th>Time:</th>                 <td>22:41:04</td>     <th>  Log-Likelihood:    </th> <td> -72.497</td>\n</tr>\n<tr>\n  <th>No. Observations:</th>      <td>    70</td>      <th>  AIC:               </th> <td>   169.0</td>\n</tr>\n<tr>\n  <th>Df Residuals:</th>          <td>    58</td>      <th>  BIC:               </th> <td>   196.0</td>\n</tr>\n<tr>\n  <th>Df Model:</th>              <td>    11</td>      <th>                     </th>     <td> </td>   \n</tr>\n<tr>\n  <th>Covariance Type:</th>      <td>nonrobust</td>    <th>                     </th>     <td> </td>   \n</tr>\n</table>\n<table class=\"simpletable\">\n<tr>\n              <td></td>                 <th>coef</th>     <th>std err</th>      <th>t</th>      <th>P>|t|</th>  <th>[0.025</th>    <th>0.975]</th>  \n</tr>\n<tr>\n  <th>transit_stations_lag</th>      <td>    0.0170</td> <td>    0.008</td> <td>    2.253</td> <td> 0.028</td> <td>    0.002</td> <td>    0.032</td>\n</tr>\n<tr>\n  <th>parks_lag</th>                 <td>    0.0058</td> <td>    0.002</td> <td>    3.130</td> <td> 0.003</td> <td>    0.002</td> <td>    0.009</td>\n</tr>\n<tr>\n  <th>residential_lag</th>           <td>   -0.1114</td> <td>    0.044</td> <td>   -2.530</td> <td> 0.014</td> <td>   -0.200</td> <td>   -0.023</td>\n</tr>\n<tr>\n  <th>retail_and_recreation_lag</th> <td>   -0.0077</td> <td>    0.012</td> <td>   -0.619</td> <td> 0.539</td> <td>   -0.033</td> <td>    0.017</td>\n</tr>\n<tr>\n  <th>workplaces_lag</th>            <td>   -0.0982</td> <td>    0.023</td> <td>   -4.323</td> <td> 0.000</td> <td>   -0.144</td> <td>   -0.053</td>\n</tr>\n<tr>\n  <th>unemployment_rate</th>         <td>   -0.2293</td> <td>    0.073</td> <td>   -3.163</td> <td> 0.002</td> <td>   -0.374</td> <td>   -0.084</td>\n</tr>\n<tr>\n  <th>some_college</th>              <td>    0.0938</td> <td>    0.065</td> <td>    1.434</td> <td> 0.157</td> <td>   -0.037</td> <td>    0.225</td>\n</tr>\n<tr>\n  <th>bachelor_or_higher</th>        <td>   -0.0122</td> <td>    0.016</td> <td>   -0.741</td> <td> 0.461</td> <td>   -0.045</td> <td>    0.021</td>\n</tr>\n<tr>\n  <th>high_school</th>               <td>    0.0162</td> <td>    0.035</td> <td>    0.457</td> <td> 0.649</td> <td>   -0.055</td> <td>    0.087</td>\n</tr>\n<tr>\n  <th>less_than_high_school</th>     <td>   -0.0330</td> <td>    0.041</td> <td>   -0.797</td> <td> 0.429</td> <td>   -0.116</td> <td>    0.050</td>\n</tr>\n<tr>\n  <th>population_density</th>        <td>-6.412e-05</td> <td> 7.03e-05</td> <td>   -0.913</td> <td> 0.365</td> <td>   -0.000</td> <td> 7.65e-05</td>\n</tr>\n<tr>\n  <th>poverty_rate</th>              <td>    0.0731</td> <td>    0.062</td> <td>    1.181</td> <td> 0.243</td> <td>   -0.051</td> <td>    0.197</td>\n</tr>\n<tr>\n  <th>party_DEMOCRAT</th>            <td>    0.0006</td> <td>    0.001</td> <td>    1.218</td> <td> 0.228</td> <td>   -0.000</td> <td>    0.002</td>\n</tr>\n</table>\n<table class=\"simpletable\">\n<tr>\n  <th>Omnibus:</th>       <td> 2.894</td> <th>  Durbin-Watson:     </th> <td>   1.157</td>\n</tr>\n<tr>\n  <th>Prob(Omnibus):</th> <td> 0.235</td> <th>  Jarque-Bera (JB):  </th> <td>   2.087</td>\n</tr>\n<tr>\n  <th>Skew:</th>          <td>-0.362</td> <th>  Prob(JB):          </th> <td>   0.352</td>\n</tr>\n<tr>\n  <th>Kurtosis:</th>      <td> 3.437</td> <th>  Cond. No.          </th> <td>1.91e+19</td>\n</tr>\n</table><br/><br/>Notes:<br/>[1] Standard Errors assume that the covariance matrix of the errors is correctly specified.<br/>[2] The smallest eigenvalue is 3.56e-30. This might indicate that there are<br/>strong multicollinearity problems or that the design matrix is singular."
     },
     "execution_count": 50,
     "metadata": {},
     "output_type": "execute_result"
    }
   ],
   "source": [
    "X3 = pa_week[['transit_stations_lag', 'parks_lag', 'residential_lag', 'retail_and_recreation_lag', 'workplaces_lag',\n",
    "              'unemployment_rate', 'some_college', 'bachelor_or_higher', 'high_school', 'less_than_high_school',\n",
    "              'population_density',\n",
    "              'poverty_rate', 'party_DEMOCRAT']].dropna()\n",
    "X3 = sm.add_constant(X3)  # Add a constant term to the model\n",
    "Y3 = pa_week.loc[X3.index, 'ln_cases']\n",
    "model3 = sm.OLS(Y3, X3).fit()\n",
    "model3.summary()"
   ]
  },
  {
   "cell_type": "markdown",
   "metadata": {},
   "source": [
    "Comparing results from Dynamic Panel Data to PCA selected features in Part 1, the results here are a lot less desirable. This means the current procedure of performing Dynamic Panel Data Analysis is not appropriate for the objective."
   ]
  },
  {
   "cell_type": "code",
   "execution_count": 52,
   "outputs": [
    {
     "ename": "KeyError",
     "evalue": "'daily_cases_per_100k'",
     "output_type": "error",
     "traceback": [
      "\u001B[0;31m---------------------------------------------------------------------------\u001B[0m",
      "\u001B[0;31mKeyError\u001B[0m                                  Traceback (most recent call last)",
      "File \u001B[0;32m~/anaconda3/lib/python3.10/site-packages/pandas/core/indexes/base.py:3802\u001B[0m, in \u001B[0;36mIndex.get_loc\u001B[0;34m(self, key, method, tolerance)\u001B[0m\n\u001B[1;32m   3801\u001B[0m \u001B[38;5;28;01mtry\u001B[39;00m:\n\u001B[0;32m-> 3802\u001B[0m     \u001B[38;5;28;01mreturn\u001B[39;00m \u001B[38;5;28;43mself\u001B[39;49m\u001B[38;5;241;43m.\u001B[39;49m\u001B[43m_engine\u001B[49m\u001B[38;5;241;43m.\u001B[39;49m\u001B[43mget_loc\u001B[49m\u001B[43m(\u001B[49m\u001B[43mcasted_key\u001B[49m\u001B[43m)\u001B[49m\n\u001B[1;32m   3803\u001B[0m \u001B[38;5;28;01mexcept\u001B[39;00m \u001B[38;5;167;01mKeyError\u001B[39;00m \u001B[38;5;28;01mas\u001B[39;00m err:\n",
      "File \u001B[0;32m~/anaconda3/lib/python3.10/site-packages/pandas/_libs/index.pyx:138\u001B[0m, in \u001B[0;36mpandas._libs.index.IndexEngine.get_loc\u001B[0;34m()\u001B[0m\n",
      "File \u001B[0;32m~/anaconda3/lib/python3.10/site-packages/pandas/_libs/index.pyx:165\u001B[0m, in \u001B[0;36mpandas._libs.index.IndexEngine.get_loc\u001B[0;34m()\u001B[0m\n",
      "File \u001B[0;32mpandas/_libs/hashtable_class_helper.pxi:5745\u001B[0m, in \u001B[0;36mpandas._libs.hashtable.PyObjectHashTable.get_item\u001B[0;34m()\u001B[0m\n",
      "File \u001B[0;32mpandas/_libs/hashtable_class_helper.pxi:5753\u001B[0m, in \u001B[0;36mpandas._libs.hashtable.PyObjectHashTable.get_item\u001B[0;34m()\u001B[0m\n",
      "\u001B[0;31mKeyError\u001B[0m: 'daily_cases_per_100k'",
      "\nThe above exception was the direct cause of the following exception:\n",
      "\u001B[0;31mKeyError\u001B[0m                                  Traceback (most recent call last)",
      "Cell \u001B[0;32mIn[52], line 1\u001B[0m\n\u001B[0;32m----> 1\u001B[0m ca_week[\u001B[38;5;124m'\u001B[39m\u001B[38;5;124mln_cases\u001B[39m\u001B[38;5;124m'\u001B[39m] \u001B[38;5;241m=\u001B[39m np\u001B[38;5;241m.\u001B[39mlog(\u001B[43mca_week\u001B[49m\u001B[43m[\u001B[49m\u001B[38;5;124;43m'\u001B[39;49m\u001B[38;5;124;43mdaily_cases_per_100k\u001B[39;49m\u001B[38;5;124;43m'\u001B[39;49m\u001B[43m]\u001B[49m)\n\u001B[1;32m      2\u001B[0m ca_week\n",
      "File \u001B[0;32m~/anaconda3/lib/python3.10/site-packages/pandas/core/frame.py:3807\u001B[0m, in \u001B[0;36mDataFrame.__getitem__\u001B[0;34m(self, key)\u001B[0m\n\u001B[1;32m   3805\u001B[0m \u001B[38;5;28;01mif\u001B[39;00m \u001B[38;5;28mself\u001B[39m\u001B[38;5;241m.\u001B[39mcolumns\u001B[38;5;241m.\u001B[39mnlevels \u001B[38;5;241m>\u001B[39m \u001B[38;5;241m1\u001B[39m:\n\u001B[1;32m   3806\u001B[0m     \u001B[38;5;28;01mreturn\u001B[39;00m \u001B[38;5;28mself\u001B[39m\u001B[38;5;241m.\u001B[39m_getitem_multilevel(key)\n\u001B[0;32m-> 3807\u001B[0m indexer \u001B[38;5;241m=\u001B[39m \u001B[38;5;28;43mself\u001B[39;49m\u001B[38;5;241;43m.\u001B[39;49m\u001B[43mcolumns\u001B[49m\u001B[38;5;241;43m.\u001B[39;49m\u001B[43mget_loc\u001B[49m\u001B[43m(\u001B[49m\u001B[43mkey\u001B[49m\u001B[43m)\u001B[49m\n\u001B[1;32m   3808\u001B[0m \u001B[38;5;28;01mif\u001B[39;00m is_integer(indexer):\n\u001B[1;32m   3809\u001B[0m     indexer \u001B[38;5;241m=\u001B[39m [indexer]\n",
      "File \u001B[0;32m~/anaconda3/lib/python3.10/site-packages/pandas/core/indexes/base.py:3804\u001B[0m, in \u001B[0;36mIndex.get_loc\u001B[0;34m(self, key, method, tolerance)\u001B[0m\n\u001B[1;32m   3802\u001B[0m     \u001B[38;5;28;01mreturn\u001B[39;00m \u001B[38;5;28mself\u001B[39m\u001B[38;5;241m.\u001B[39m_engine\u001B[38;5;241m.\u001B[39mget_loc(casted_key)\n\u001B[1;32m   3803\u001B[0m \u001B[38;5;28;01mexcept\u001B[39;00m \u001B[38;5;167;01mKeyError\u001B[39;00m \u001B[38;5;28;01mas\u001B[39;00m err:\n\u001B[0;32m-> 3804\u001B[0m     \u001B[38;5;28;01mraise\u001B[39;00m \u001B[38;5;167;01mKeyError\u001B[39;00m(key) \u001B[38;5;28;01mfrom\u001B[39;00m \u001B[38;5;21;01merr\u001B[39;00m\n\u001B[1;32m   3805\u001B[0m \u001B[38;5;28;01mexcept\u001B[39;00m \u001B[38;5;167;01mTypeError\u001B[39;00m:\n\u001B[1;32m   3806\u001B[0m     \u001B[38;5;66;03m# If we have a listlike key, _check_indexing_error will raise\u001B[39;00m\n\u001B[1;32m   3807\u001B[0m     \u001B[38;5;66;03m#  InvalidIndexError. Otherwise we fall through and re-raise\u001B[39;00m\n\u001B[1;32m   3808\u001B[0m     \u001B[38;5;66;03m#  the TypeError.\u001B[39;00m\n\u001B[1;32m   3809\u001B[0m     \u001B[38;5;28mself\u001B[39m\u001B[38;5;241m.\u001B[39m_check_indexing_error(key)\n",
      "\u001B[0;31mKeyError\u001B[0m: 'daily_cases_per_100k'"
     ]
    }
   ],
   "source": [
    "ca_week['ln_cases'] = np.log(ca_week['daily_cases_per_100k'])\n",
    "ca_week"
   ],
   "metadata": {
    "collapsed": false
   }
  },
  {
   "cell_type": "code",
   "execution_count": null,
   "outputs": [],
   "source": [],
   "metadata": {
    "collapsed": false
   }
  }
 ],
 "metadata": {
  "kernelspec": {
   "display_name": "Python 3 (ipykernel)",
   "language": "python",
   "name": "python3"
  },
  "language_info": {
   "codemirror_mode": {
    "name": "ipython",
    "version": 3
   },
   "file_extension": ".py",
   "mimetype": "text/x-python",
   "name": "python",
   "nbconvert_exporter": "python",
   "pygments_lexer": "ipython3",
   "version": "3.10.8"
  }
 },
 "nbformat": 4,
 "nbformat_minor": 1
}
